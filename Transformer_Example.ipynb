{
  "nbformat": 4,
  "nbformat_minor": 0,
  "metadata": {
    "colab": {
      "provenance": [],
      "authorship_tag": "ABX9TyOZnk06YaN4D0nZ2ugglLzI",
      "include_colab_link": true
    },
    "kernelspec": {
      "name": "python3",
      "display_name": "Python 3"
    },
    "language_info": {
      "name": "python"
    }
  },
  "cells": [
    {
      "cell_type": "markdown",
      "metadata": {
        "id": "view-in-github",
        "colab_type": "text"
      },
      "source": [
        "<a href=\"https://colab.research.google.com/github/S3IFK/Practise/blob/main/Transformer_Example.ipynb\" target=\"_parent\"><img src=\"https://colab.research.google.com/assets/colab-badge.svg\" alt=\"Open In Colab\"/></a>"
      ]
    },
    {
      "cell_type": "code",
      "execution_count": 6,
      "metadata": {
        "id": "Ksf2a95-TUC8"
      },
      "outputs": [],
      "source": [
        "import pandas as pd\n",
        "import numpy as np\n"
      ]
    },
    {
      "cell_type": "code",
      "source": [
        "data = {\"Social Media Platform\": [\"Twitter\", \"Facebook\", \"Instagram\", \"Twitter\", \"Facebook\", \"Instagram\", \"Facebook\", \"Instagram\"],\n",
        "        \"Review\": [\"Love the new update\", \"Too may ads\", \"Great for sharing stories\", \"Privacy concerns with latest update\", \"Amazing Filter\", \"Too much spam\",\"easy to connect friends\",\"Customer support lacking\"],\n",
        "        \"Age\": [21,19,np.nan, 17,24, np.nan, 30, 61],\n",
        "        \"Sentiment\": [1,0,1,0,0,1,0,1]\n",
        "        }\n",
        "\n",
        "df = pd.DataFrame(data)\n",
        "\n",
        "print(df)"
      ],
      "metadata": {
        "colab": {
          "base_uri": "https://localhost:8080/"
        },
        "id": "TejLEBQxVhGc",
        "outputId": "e62aa365-1536-4fc6-c058-28a6aa3e364d"
      },
      "execution_count": 9,
      "outputs": [
        {
          "output_type": "stream",
          "name": "stdout",
          "text": [
            "  Social Media Platform                               Review   Age  Sentiment\n",
            "0               Twitter                  Love the new update  21.0          1\n",
            "1              Facebook                          Too may ads  19.0          0\n",
            "2             Instagram            Great for sharing stories   NaN          1\n",
            "3               Twitter  Privacy concerns with latest update  17.0          0\n",
            "4              Facebook                       Amazing Filter  24.0          0\n",
            "5             Instagram                        Too much spam   NaN          1\n",
            "6              Facebook              easy to connect friends  30.0          0\n",
            "7             Instagram             Customer support lacking  61.0          1\n"
          ]
        }
      ]
    },
    {
      "cell_type": "code",
      "source": [
        "\n",
        "def count_words(Reviews):\n",
        "  return np.array([len(review.split()) for Review in Reviews]).reshape(-1,1)"
      ],
      "metadata": {
        "id": "Hcw30cdwW49C"
      },
      "execution_count": 10,
      "outputs": []
    },
    {
      "cell_type": "code",
      "source": [
        "from sklearn.preprocessing import FunctionTransformer\n",
        "\n",
        "word_count_trans = FunctionTransformer(count_words)"
      ],
      "metadata": {
        "id": "PDn2FYB4X43o"
      },
      "execution_count": 11,
      "outputs": []
    },
    {
      "cell_type": "code",
      "source": [
        "feature_union = feature_union"
      ],
      "metadata": {
        "id": "1NXLdsZsYIMA"
      },
      "execution_count": null,
      "outputs": []
    }
  ]
}