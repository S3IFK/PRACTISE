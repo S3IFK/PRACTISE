{
  "nbformat": 4,
  "nbformat_minor": 0,
  "metadata": {
    "colab": {
      "provenance": [],
      "authorship_tag": "ABX9TyO4VNNddpMDtUFMscrC2pZy",
      "include_colab_link": true
    },
    "kernelspec": {
      "name": "python3",
      "display_name": "Python 3"
    },
    "language_info": {
      "name": "python"
    }
  },
  "cells": [
    {
      "cell_type": "markdown",
      "metadata": {
        "id": "view-in-github",
        "colab_type": "text"
      },
      "source": [
        "<a href=\"https://colab.research.google.com/github/S3IFK/Practise/blob/main/Transformer_Example.ipynb\" target=\"_parent\"><img src=\"https://colab.research.google.com/assets/colab-badge.svg\" alt=\"Open In Colab\"/></a>"
      ]
    },
    {
      "cell_type": "code",
      "execution_count": 2,
      "metadata": {
        "id": "Ksf2a95-TUC8"
      },
      "outputs": [],
      "source": [
        "import pandas as pd\n",
        "import numpy as np\n"
      ]
    },
    {
      "cell_type": "code",
      "source": [
        "data = {\"Social Media Platform\": [\"Twitter\", \"Facebook\", \"Instagram\", \"Twitter\", \"Facebook\", \"Instagram\", \"Facebook\", \"Instagram\"],\n",
        "        \"Review\": [\"Love the new update\", \"Too may ads\", \"Great for sharing stories\", \"Privacy concerns with latest update\", \"Amazing Filter\", \"Too much spam\",\"easy to connect friends\",\"Customer support lacking\"],\n",
        "        \"Age\": [21,19,np.nan, 17,24, np.nan, 30, 61],\n",
        "        \"Sentiment\": [1,0,1,0,0,1,0,1]\n",
        "        }\n",
        "\n",
        "df = pd.DataFrame(data)\n",
        "\n",
        "print(df)"
      ],
      "metadata": {
        "colab": {
          "base_uri": "https://localhost:8080/"
        },
        "id": "TejLEBQxVhGc",
        "outputId": "ae7dde43-cf60-4478-c204-500c31214449"
      },
      "execution_count": 3,
      "outputs": [
        {
          "output_type": "stream",
          "name": "stdout",
          "text": [
            "  Social Media Platform                               Review   Age  Sentiment\n",
            "0               Twitter                  Love the new update  21.0          1\n",
            "1              Facebook                          Too may ads  19.0          0\n",
            "2             Instagram            Great for sharing stories   NaN          1\n",
            "3               Twitter  Privacy concerns with latest update  17.0          0\n",
            "4              Facebook                       Amazing Filter  24.0          0\n",
            "5             Instagram                        Too much spam   NaN          1\n",
            "6              Facebook              easy to connect friends  30.0          0\n",
            "7             Instagram             Customer support lacking  61.0          1\n"
          ]
        }
      ]
    },
    {
      "cell_type": "code",
      "source": [
        "\n",
        "def count_words(Reviews):\n",
        "  return np.array([len(Review.split()) for Review in Reviews]).reshape(-1,1)"
      ],
      "metadata": {
        "id": "Hcw30cdwW49C"
      },
      "execution_count": 17,
      "outputs": []
    },
    {
      "cell_type": "code",
      "source": [
        "from sklearn.preprocessing import FunctionTransformer\n",
        "\n",
        "word_count_trans = FunctionTransformer(count_words)"
      ],
      "metadata": {
        "id": "PDn2FYB4X43o"
      },
      "execution_count": 18,
      "outputs": []
    },
    {
      "cell_type": "code",
      "source": [
        "from sklearn.pipeline import FeatureUnion\n",
        "from sklearn.feature_extraction.text import CountVectorizer\n",
        "feature_union = FeatureUnion([('word count', word_count_trans), ('bag of words' , CountVectorizer())])"
      ],
      "metadata": {
        "id": "1NXLdsZsYIMA"
      },
      "execution_count": 19,
      "outputs": []
    },
    {
      "cell_type": "code",
      "source": [
        "from sklearn.compose import ColumnTransformer\n",
        "from sklearn.preprocessing import Normalizer\n",
        "from sklearn.impute import SimpleImputer\n",
        "from sklearn.preprocessing import OneHotEncoder"
      ],
      "metadata": {
        "id": "aWELZVbMQLds"
      },
      "execution_count": 20,
      "outputs": []
    },
    {
      "cell_type": "code",
      "source": [
        "col_trans = ColumnTransformer(\n",
        "    transformers=[\n",
        "        ('age_imputer', SimpleImputer(strategy='mean'),['Age']),\n",
        "        ('plat_ohe', OneHotEncoder(), ['Social Media Platform']),\n",
        "        ('review_processing', feature_union, 'Review')\n",
        "      ],\n",
        "    remainder = 'drop'\n",
        ")"
      ],
      "metadata": {
        "id": "ARIAGxJKSULi"
      },
      "execution_count": 21,
      "outputs": []
    },
    {
      "cell_type": "code",
      "source": [
        "from sklearn.linear_model import LogisticRegression\n",
        "from sklearn.preprocessing import MaxAbsScaler\n",
        "from sklearn.feature_selection import SelectKBest, chi2"
      ],
      "metadata": {
        "id": "UnRCxByqTZf3"
      },
      "execution_count": 22,
      "outputs": []
    },
    {
      "cell_type": "code",
      "source": [
        "from sklearn.pipeline import Pipeline\n",
        "final_pipeline = Pipeline(steps=[\n",
        "    ('col_trans', col_trans),\n",
        "    ('Scaler', MaxAbsScaler()),\n",
        "    ('selector', SelectKBest(score_func=chi2,k=10)),\n",
        "    ('Classifier', LogisticRegression())\n",
        "])"
      ],
      "metadata": {
        "id": "ApnL_GFvUd40"
      },
      "execution_count": 23,
      "outputs": []
    },
    {
      "cell_type": "code",
      "source": [
        "final_pipeline.fit(df.drop(columns=['Sentiment']), df['Sentiment'])"
      ],
      "metadata": {
        "colab": {
          "base_uri": "https://localhost:8080/",
          "height": 772
        },
        "id": "upBjYzRcVFuY",
        "outputId": "51492591-a743-4173-ab3a-e684c1e1a65f"
      },
      "execution_count": 24,
      "outputs": [
        {
          "output_type": "execute_result",
          "data": {
            "text/plain": [
              "Pipeline(steps=[('col_trans',\n",
              "                 ColumnTransformer(transformers=[('age_imputer',\n",
              "                                                  SimpleImputer(), ['Age']),\n",
              "                                                 ('plat_ohe', OneHotEncoder(),\n",
              "                                                  ['Social Media Platform']),\n",
              "                                                 ('review_processing',\n",
              "                                                  FeatureUnion(transformer_list=[('word '\n",
              "                                                                                  'count',\n",
              "                                                                                  FunctionTransformer(func=<function count_words at 0x7932936dcb80>)),\n",
              "                                                                                 ('bag '\n",
              "                                                                                  'of '\n",
              "                                                                                  'words',\n",
              "                                                                                  CountVectorizer())]),\n",
              "                                                  'Review')])),\n",
              "                ('Scaler', MaxAbsScaler()),\n",
              "                ('selector',\n",
              "                 SelectKBest(score_func=<function chi2 at 0x7932939e6830>)),\n",
              "                ('Classifier', LogisticRegression())])"
            ],
            "text/html": [
              "<style>#sk-container-id-1 {color: black;background-color: white;}#sk-container-id-1 pre{padding: 0;}#sk-container-id-1 div.sk-toggleable {background-color: white;}#sk-container-id-1 label.sk-toggleable__label {cursor: pointer;display: block;width: 100%;margin-bottom: 0;padding: 0.3em;box-sizing: border-box;text-align: center;}#sk-container-id-1 label.sk-toggleable__label-arrow:before {content: \"▸\";float: left;margin-right: 0.25em;color: #696969;}#sk-container-id-1 label.sk-toggleable__label-arrow:hover:before {color: black;}#sk-container-id-1 div.sk-estimator:hover label.sk-toggleable__label-arrow:before {color: black;}#sk-container-id-1 div.sk-toggleable__content {max-height: 0;max-width: 0;overflow: hidden;text-align: left;background-color: #f0f8ff;}#sk-container-id-1 div.sk-toggleable__content pre {margin: 0.2em;color: black;border-radius: 0.25em;background-color: #f0f8ff;}#sk-container-id-1 input.sk-toggleable__control:checked~div.sk-toggleable__content {max-height: 200px;max-width: 100%;overflow: auto;}#sk-container-id-1 input.sk-toggleable__control:checked~label.sk-toggleable__label-arrow:before {content: \"▾\";}#sk-container-id-1 div.sk-estimator input.sk-toggleable__control:checked~label.sk-toggleable__label {background-color: #d4ebff;}#sk-container-id-1 div.sk-label input.sk-toggleable__control:checked~label.sk-toggleable__label {background-color: #d4ebff;}#sk-container-id-1 input.sk-hidden--visually {border: 0;clip: rect(1px 1px 1px 1px);clip: rect(1px, 1px, 1px, 1px);height: 1px;margin: -1px;overflow: hidden;padding: 0;position: absolute;width: 1px;}#sk-container-id-1 div.sk-estimator {font-family: monospace;background-color: #f0f8ff;border: 1px dotted black;border-radius: 0.25em;box-sizing: border-box;margin-bottom: 0.5em;}#sk-container-id-1 div.sk-estimator:hover {background-color: #d4ebff;}#sk-container-id-1 div.sk-parallel-item::after {content: \"\";width: 100%;border-bottom: 1px solid gray;flex-grow: 1;}#sk-container-id-1 div.sk-label:hover label.sk-toggleable__label {background-color: #d4ebff;}#sk-container-id-1 div.sk-serial::before {content: \"\";position: absolute;border-left: 1px solid gray;box-sizing: border-box;top: 0;bottom: 0;left: 50%;z-index: 0;}#sk-container-id-1 div.sk-serial {display: flex;flex-direction: column;align-items: center;background-color: white;padding-right: 0.2em;padding-left: 0.2em;position: relative;}#sk-container-id-1 div.sk-item {position: relative;z-index: 1;}#sk-container-id-1 div.sk-parallel {display: flex;align-items: stretch;justify-content: center;background-color: white;position: relative;}#sk-container-id-1 div.sk-item::before, #sk-container-id-1 div.sk-parallel-item::before {content: \"\";position: absolute;border-left: 1px solid gray;box-sizing: border-box;top: 0;bottom: 0;left: 50%;z-index: -1;}#sk-container-id-1 div.sk-parallel-item {display: flex;flex-direction: column;z-index: 1;position: relative;background-color: white;}#sk-container-id-1 div.sk-parallel-item:first-child::after {align-self: flex-end;width: 50%;}#sk-container-id-1 div.sk-parallel-item:last-child::after {align-self: flex-start;width: 50%;}#sk-container-id-1 div.sk-parallel-item:only-child::after {width: 0;}#sk-container-id-1 div.sk-dashed-wrapped {border: 1px dashed gray;margin: 0 0.4em 0.5em 0.4em;box-sizing: border-box;padding-bottom: 0.4em;background-color: white;}#sk-container-id-1 div.sk-label label {font-family: monospace;font-weight: bold;display: inline-block;line-height: 1.2em;}#sk-container-id-1 div.sk-label-container {text-align: center;}#sk-container-id-1 div.sk-container {/* jupyter's `normalize.less` sets `[hidden] { display: none; }` but bootstrap.min.css set `[hidden] { display: none !important; }` so we also need the `!important` here to be able to override the default hidden behavior on the sphinx rendered scikit-learn.org. See: https://github.com/scikit-learn/scikit-learn/issues/21755 */display: inline-block !important;position: relative;}#sk-container-id-1 div.sk-text-repr-fallback {display: none;}</style><div id=\"sk-container-id-1\" class=\"sk-top-container\"><div class=\"sk-text-repr-fallback\"><pre>Pipeline(steps=[(&#x27;col_trans&#x27;,\n",
              "                 ColumnTransformer(transformers=[(&#x27;age_imputer&#x27;,\n",
              "                                                  SimpleImputer(), [&#x27;Age&#x27;]),\n",
              "                                                 (&#x27;plat_ohe&#x27;, OneHotEncoder(),\n",
              "                                                  [&#x27;Social Media Platform&#x27;]),\n",
              "                                                 (&#x27;review_processing&#x27;,\n",
              "                                                  FeatureUnion(transformer_list=[(&#x27;word &#x27;\n",
              "                                                                                  &#x27;count&#x27;,\n",
              "                                                                                  FunctionTransformer(func=&lt;function count_words at 0x7932936dcb80&gt;)),\n",
              "                                                                                 (&#x27;bag &#x27;\n",
              "                                                                                  &#x27;of &#x27;\n",
              "                                                                                  &#x27;words&#x27;,\n",
              "                                                                                  CountVectorizer())]),\n",
              "                                                  &#x27;Review&#x27;)])),\n",
              "                (&#x27;Scaler&#x27;, MaxAbsScaler()),\n",
              "                (&#x27;selector&#x27;,\n",
              "                 SelectKBest(score_func=&lt;function chi2 at 0x7932939e6830&gt;)),\n",
              "                (&#x27;Classifier&#x27;, LogisticRegression())])</pre><b>In a Jupyter environment, please rerun this cell to show the HTML representation or trust the notebook. <br />On GitHub, the HTML representation is unable to render, please try loading this page with nbviewer.org.</b></div><div class=\"sk-container\" hidden><div class=\"sk-item sk-dashed-wrapped\"><div class=\"sk-label-container\"><div class=\"sk-label sk-toggleable\"><input class=\"sk-toggleable__control sk-hidden--visually\" id=\"sk-estimator-id-1\" type=\"checkbox\" ><label for=\"sk-estimator-id-1\" class=\"sk-toggleable__label sk-toggleable__label-arrow\">Pipeline</label><div class=\"sk-toggleable__content\"><pre>Pipeline(steps=[(&#x27;col_trans&#x27;,\n",
              "                 ColumnTransformer(transformers=[(&#x27;age_imputer&#x27;,\n",
              "                                                  SimpleImputer(), [&#x27;Age&#x27;]),\n",
              "                                                 (&#x27;plat_ohe&#x27;, OneHotEncoder(),\n",
              "                                                  [&#x27;Social Media Platform&#x27;]),\n",
              "                                                 (&#x27;review_processing&#x27;,\n",
              "                                                  FeatureUnion(transformer_list=[(&#x27;word &#x27;\n",
              "                                                                                  &#x27;count&#x27;,\n",
              "                                                                                  FunctionTransformer(func=&lt;function count_words at 0x7932936dcb80&gt;)),\n",
              "                                                                                 (&#x27;bag &#x27;\n",
              "                                                                                  &#x27;of &#x27;\n",
              "                                                                                  &#x27;words&#x27;,\n",
              "                                                                                  CountVectorizer())]),\n",
              "                                                  &#x27;Review&#x27;)])),\n",
              "                (&#x27;Scaler&#x27;, MaxAbsScaler()),\n",
              "                (&#x27;selector&#x27;,\n",
              "                 SelectKBest(score_func=&lt;function chi2 at 0x7932939e6830&gt;)),\n",
              "                (&#x27;Classifier&#x27;, LogisticRegression())])</pre></div></div></div><div class=\"sk-serial\"><div class=\"sk-item sk-dashed-wrapped\"><div class=\"sk-label-container\"><div class=\"sk-label sk-toggleable\"><input class=\"sk-toggleable__control sk-hidden--visually\" id=\"sk-estimator-id-2\" type=\"checkbox\" ><label for=\"sk-estimator-id-2\" class=\"sk-toggleable__label sk-toggleable__label-arrow\">col_trans: ColumnTransformer</label><div class=\"sk-toggleable__content\"><pre>ColumnTransformer(transformers=[(&#x27;age_imputer&#x27;, SimpleImputer(), [&#x27;Age&#x27;]),\n",
              "                                (&#x27;plat_ohe&#x27;, OneHotEncoder(),\n",
              "                                 [&#x27;Social Media Platform&#x27;]),\n",
              "                                (&#x27;review_processing&#x27;,\n",
              "                                 FeatureUnion(transformer_list=[(&#x27;word count&#x27;,\n",
              "                                                                 FunctionTransformer(func=&lt;function count_words at 0x7932936dcb80&gt;)),\n",
              "                                                                (&#x27;bag of words&#x27;,\n",
              "                                                                 CountVectorizer())]),\n",
              "                                 &#x27;Review&#x27;)])</pre></div></div></div><div class=\"sk-parallel\"><div class=\"sk-parallel-item\"><div class=\"sk-item\"><div class=\"sk-label-container\"><div class=\"sk-label sk-toggleable\"><input class=\"sk-toggleable__control sk-hidden--visually\" id=\"sk-estimator-id-3\" type=\"checkbox\" ><label for=\"sk-estimator-id-3\" class=\"sk-toggleable__label sk-toggleable__label-arrow\">age_imputer</label><div class=\"sk-toggleable__content\"><pre>[&#x27;Age&#x27;]</pre></div></div></div><div class=\"sk-serial\"><div class=\"sk-item\"><div class=\"sk-estimator sk-toggleable\"><input class=\"sk-toggleable__control sk-hidden--visually\" id=\"sk-estimator-id-4\" type=\"checkbox\" ><label for=\"sk-estimator-id-4\" class=\"sk-toggleable__label sk-toggleable__label-arrow\">SimpleImputer</label><div class=\"sk-toggleable__content\"><pre>SimpleImputer()</pre></div></div></div></div></div></div><div class=\"sk-parallel-item\"><div class=\"sk-item\"><div class=\"sk-label-container\"><div class=\"sk-label sk-toggleable\"><input class=\"sk-toggleable__control sk-hidden--visually\" id=\"sk-estimator-id-5\" type=\"checkbox\" ><label for=\"sk-estimator-id-5\" class=\"sk-toggleable__label sk-toggleable__label-arrow\">plat_ohe</label><div class=\"sk-toggleable__content\"><pre>[&#x27;Social Media Platform&#x27;]</pre></div></div></div><div class=\"sk-serial\"><div class=\"sk-item\"><div class=\"sk-estimator sk-toggleable\"><input class=\"sk-toggleable__control sk-hidden--visually\" id=\"sk-estimator-id-6\" type=\"checkbox\" ><label for=\"sk-estimator-id-6\" class=\"sk-toggleable__label sk-toggleable__label-arrow\">OneHotEncoder</label><div class=\"sk-toggleable__content\"><pre>OneHotEncoder()</pre></div></div></div></div></div></div><div class=\"sk-parallel-item\"><div class=\"sk-item\"><div class=\"sk-label-container\"><div class=\"sk-label sk-toggleable\"><input class=\"sk-toggleable__control sk-hidden--visually\" id=\"sk-estimator-id-7\" type=\"checkbox\" ><label for=\"sk-estimator-id-7\" class=\"sk-toggleable__label sk-toggleable__label-arrow\">review_processing</label><div class=\"sk-toggleable__content\"><pre>Review</pre></div></div></div><div class=\"sk-serial\"><div class=\"sk-item sk-dashed-wrapped\"><div class=\"sk-parallel\"><div class=\"sk-parallel-item\"><div class=\"sk-item\"><div class=\"sk-label-container\"><div class=\"sk-label sk-toggleable\"><label>word count</label></div></div><div class=\"sk-serial\"><div class=\"sk-item\"><div class=\"sk-estimator sk-toggleable\"><input class=\"sk-toggleable__control sk-hidden--visually\" id=\"sk-estimator-id-8\" type=\"checkbox\" ><label for=\"sk-estimator-id-8\" class=\"sk-toggleable__label sk-toggleable__label-arrow\">FunctionTransformer</label><div class=\"sk-toggleable__content\"><pre>FunctionTransformer(func=&lt;function count_words at 0x7932936dcb80&gt;)</pre></div></div></div></div></div></div><div class=\"sk-parallel-item\"><div class=\"sk-item\"><div class=\"sk-label-container\"><div class=\"sk-label sk-toggleable\"><label>bag of words</label></div></div><div class=\"sk-serial\"><div class=\"sk-item\"><div class=\"sk-estimator sk-toggleable\"><input class=\"sk-toggleable__control sk-hidden--visually\" id=\"sk-estimator-id-9\" type=\"checkbox\" ><label for=\"sk-estimator-id-9\" class=\"sk-toggleable__label sk-toggleable__label-arrow\">CountVectorizer</label><div class=\"sk-toggleable__content\"><pre>CountVectorizer()</pre></div></div></div></div></div></div></div></div></div></div></div></div></div><div class=\"sk-item\"><div class=\"sk-estimator sk-toggleable\"><input class=\"sk-toggleable__control sk-hidden--visually\" id=\"sk-estimator-id-10\" type=\"checkbox\" ><label for=\"sk-estimator-id-10\" class=\"sk-toggleable__label sk-toggleable__label-arrow\">MaxAbsScaler</label><div class=\"sk-toggleable__content\"><pre>MaxAbsScaler()</pre></div></div></div><div class=\"sk-item\"><div class=\"sk-estimator sk-toggleable\"><input class=\"sk-toggleable__control sk-hidden--visually\" id=\"sk-estimator-id-11\" type=\"checkbox\" ><label for=\"sk-estimator-id-11\" class=\"sk-toggleable__label sk-toggleable__label-arrow\">SelectKBest</label><div class=\"sk-toggleable__content\"><pre>SelectKBest(score_func=&lt;function chi2 at 0x7932939e6830&gt;)</pre></div></div></div><div class=\"sk-item\"><div class=\"sk-estimator sk-toggleable\"><input class=\"sk-toggleable__control sk-hidden--visually\" id=\"sk-estimator-id-12\" type=\"checkbox\" ><label for=\"sk-estimator-id-12\" class=\"sk-toggleable__label sk-toggleable__label-arrow\">LogisticRegression</label><div class=\"sk-toggleable__content\"><pre>LogisticRegression()</pre></div></div></div></div></div></div></div>"
            ]
          },
          "metadata": {},
          "execution_count": 24
        }
      ]
    },
    {
      "cell_type": "code",
      "source": [],
      "metadata": {
        "id": "kYIgNFoVVpl0"
      },
      "execution_count": null,
      "outputs": []
    }
  ]
}