{
  "cells": [
    {
      "cell_type": "markdown",
      "metadata": {
        "id": "view-in-github",
        "colab_type": "text"
      },
      "source": [
        "<a href=\"https://colab.research.google.com/github/S3IFK/Practise/blob/main/NewCodesPractise.ipynb\" target=\"_parent\"><img src=\"https://colab.research.google.com/assets/colab-badge.svg\" alt=\"Open In Colab\"/></a>"
      ]
    },
    {
      "cell_type": "code",
      "source": [
        "import numpy as np\n",
        "import pandas as pd"
      ],
      "metadata": {
        "id": "4qLmzgMyBnKq"
      },
      "execution_count": 1,
      "outputs": []
    },
    {
      "cell_type": "code",
      "source": [
        "kg2ws = lambda kg: kg*1000\n",
        "print(kg2ws(5))"
      ],
      "metadata": {
        "colab": {
          "base_uri": "https://localhost:8080/"
        },
        "id": "aAC95EgwroYD",
        "outputId": "07a586cd-e9ee-4b41-d683-17b48931ee64"
      },
      "execution_count": 2,
      "outputs": [
        {
          "output_type": "stream",
          "name": "stdout",
          "text": [
            "5000\n"
          ]
        }
      ]
    },
    {
      "cell_type": "code",
      "source": [
        "evenodd = lambda num: True if num%2 ==0 else False"
      ],
      "metadata": {
        "id": "1CB2A3QksCZN"
      },
      "execution_count": 3,
      "outputs": []
    },
    {
      "cell_type": "code",
      "source": [
        "evenodd(2)"
      ],
      "metadata": {
        "colab": {
          "base_uri": "https://localhost:8080/"
        },
        "id": "7JlkeRx9sZpB",
        "outputId": "e47abf07-cf67-4395-c3a3-3d94f1da5a18"
      },
      "execution_count": 5,
      "outputs": [
        {
          "output_type": "execute_result",
          "data": {
            "text/plain": [
              "True"
            ]
          },
          "metadata": {},
          "execution_count": 5
        }
      ]
    },
    {
      "cell_type": "code",
      "source": [
        "evenodd = lambda num: num%2 ==0"
      ],
      "metadata": {
        "id": "qbKmAQDXsbZQ"
      },
      "execution_count": 6,
      "outputs": []
    },
    {
      "cell_type": "code",
      "source": [
        "print(evenodd(5))\n",
        "print(evenodd(4))"
      ],
      "metadata": {
        "colab": {
          "base_uri": "https://localhost:8080/"
        },
        "id": "SEBbkC1DstxX",
        "outputId": "59d7fbae-b859-44de-80c1-b35397bac3b5"
      },
      "execution_count": 9,
      "outputs": [
        {
          "output_type": "stream",
          "name": "stdout",
          "text": [
            "False\n",
            "True\n"
          ]
        }
      ]
    },
    {
      "cell_type": "code",
      "source": [
        "s = lambda x,y: x+y"
      ],
      "metadata": {
        "id": "7KdTlhvLswAh"
      },
      "execution_count": 10,
      "outputs": []
    },
    {
      "cell_type": "code",
      "source": [
        "s(4,5)"
      ],
      "metadata": {
        "colab": {
          "base_uri": "https://localhost:8080/"
        },
        "id": "DdL8A1PmtKV9",
        "outputId": "408833fe-9526-43be-8750-788017c60826"
      },
      "execution_count": 11,
      "outputs": [
        {
          "output_type": "execute_result",
          "data": {
            "text/plain": [
              "9"
            ]
          },
          "metadata": {},
          "execution_count": 11
        }
      ]
    },
    {
      "cell_type": "code",
      "source": [
        "numlist=[1,2,3,4,5,6,7,8,9]\n",
        "\n",
        "#map\n",
        "print(map(lambda x: x**2, numlist))"
      ],
      "metadata": {
        "colab": {
          "base_uri": "https://localhost:8080/"
        },
        "id": "NYpuSNtEtMV9",
        "outputId": "19642255-1e52-443c-a9e3-998878ef7b5a"
      },
      "execution_count": 12,
      "outputs": [
        {
          "output_type": "stream",
          "name": "stdout",
          "text": [
            "<map object at 0x7f6fca8fe670>\n"
          ]
        }
      ]
    },
    {
      "cell_type": "code",
      "source": [
        "print(list(map(lambda x: x**3, numlist)))\n",
        "print(set(map(lambda x: x**2, numlist)))\n",
        "print(tuple(map(lambda x: x**3, numlist)))"
      ],
      "metadata": {
        "colab": {
          "base_uri": "https://localhost:8080/"
        },
        "id": "TPSRsURIvWu6",
        "outputId": "4a7b1d37-baa0-48a6-d5ba-44140600d07e"
      },
      "execution_count": 16,
      "outputs": [
        {
          "output_type": "stream",
          "name": "stdout",
          "text": [
            "[1, 8, 27, 64, 125, 216, 343, 512, 729]\n",
            "{64, 1, 4, 36, 9, 16, 49, 81, 25}\n",
            "(1, 8, 27, 64, 125, 216, 343, 512, 729)\n"
          ]
        }
      ]
    },
    {
      "cell_type": "code",
      "source": [
        "usr_in = input('Enter some intergers with space separated: ')\n",
        "print(usr_in)\n",
        "usr_split = usr_in.split()\n",
        "print(usr_split)\n",
        "print(list(map(int, usr_split)))"
      ],
      "metadata": {
        "colab": {
          "base_uri": "https://localhost:8080/"
        },
        "id": "iX0Q_eUlvix5",
        "outputId": "0dd46340-e062-4103-e23f-fd308d31a1bd"
      },
      "execution_count": 17,
      "outputs": [
        {
          "output_type": "stream",
          "name": "stdout",
          "text": [
            "Enter some intergers with space separated: 1 2 3 4 5\n",
            "1 2 3 4 5\n",
            "['1', '2', '3', '4', '5']\n",
            "[1, 2, 3, 4, 5]\n"
          ]
        }
      ]
    },
    {
      "cell_type": "code",
      "source": [
        "print(list(map(int, input('Enter some number: ').split())))"
      ],
      "metadata": {
        "colab": {
          "base_uri": "https://localhost:8080/"
        },
        "id": "ZUTwdoNtxhj-",
        "outputId": "49d720c9-b3f2-4cd3-f1b2-72e97bacd3af"
      },
      "execution_count": 18,
      "outputs": [
        {
          "output_type": "stream",
          "name": "stdout",
          "text": [
            "Enter some number: 1 2 3\n",
            "[1, 2, 3]\n"
          ]
        }
      ]
    },
    {
      "cell_type": "code",
      "source": [
        "print(list(filter(lambda num: num%2 ==0, numlist)))"
      ],
      "metadata": {
        "colab": {
          "base_uri": "https://localhost:8080/"
        },
        "id": "g0iliH4Ox6iq",
        "outputId": "049e4f60-ad95-4df0-924b-7dc15d14ed30"
      },
      "execution_count": 20,
      "outputs": [
        {
          "output_type": "stream",
          "name": "stdout",
          "text": [
            "[2, 4, 6, 8]\n"
          ]
        }
      ]
    },
    {
      "cell_type": "code",
      "source": [
        "gtbox = ['bread','iph*one','buter','ip*ad','milk']"
      ],
      "metadata": {
        "id": "EPRDS2uMyPgM"
      },
      "execution_count": 21,
      "outputs": []
    },
    {
      "cell_type": "code",
      "source": [
        "print(list(filter(lambda x: '*' in x, gtbox)))"
      ],
      "metadata": {
        "colab": {
          "base_uri": "https://localhost:8080/"
        },
        "id": "xePD-KaP9Lwh",
        "outputId": "66ec76c3-10c2-4529-d511-5b91b1407b41"
      },
      "execution_count": 24,
      "outputs": [
        {
          "output_type": "stream",
          "name": "stdout",
          "text": [
            "['iph*one', 'ip*ad']\n"
          ]
        }
      ]
    },
    {
      "cell_type": "code",
      "source": [
        "#reduce\n",
        "from functools import reduce"
      ],
      "metadata": {
        "id": "FH01gUGR9gbB"
      },
      "execution_count": 25,
      "outputs": []
    },
    {
      "cell_type": "code",
      "source": [
        "print(reduce(lambda x,y: x+y, numlist))"
      ],
      "metadata": {
        "colab": {
          "base_uri": "https://localhost:8080/"
        },
        "id": "_LWp80O5-kYW",
        "outputId": "79e3e907-beef-48ed-be3f-e0df7d6ba1a4"
      },
      "execution_count": 26,
      "outputs": [
        {
          "output_type": "stream",
          "name": "stdout",
          "text": [
            "45\n"
          ]
        }
      ]
    },
    {
      "cell_type": "code",
      "source": [
        "def Funcsum(x,y):\n",
        "  print(f'x is {x}; y is {y}; Sum of it is {x+y}')\n",
        "  return x+y\n",
        "\n",
        "print(reduce(Funcsum ,numlist))"
      ],
      "metadata": {
        "colab": {
          "base_uri": "https://localhost:8080/"
        },
        "id": "UBjbQB4cAV1h",
        "outputId": "351f3b7c-ad14-4039-a2d0-1778040836e0"
      },
      "execution_count": 29,
      "outputs": [
        {
          "output_type": "stream",
          "name": "stdout",
          "text": [
            "x is 1; y is 2; Sum of it is 3\n",
            "x is 3; y is 3; Sum of it is 6\n",
            "x is 6; y is 4; Sum of it is 10\n",
            "x is 10; y is 5; Sum of it is 15\n",
            "x is 15; y is 6; Sum of it is 21\n",
            "x is 21; y is 7; Sum of it is 28\n",
            "x is 28; y is 8; Sum of it is 36\n",
            "x is 36; y is 9; Sum of it is 45\n",
            "45\n"
          ]
        }
      ]
    },
    {
      "cell_type": "code",
      "source": [
        "print(reduce(lambda x,y: x if x<y else y, numlist))"
      ],
      "metadata": {
        "colab": {
          "base_uri": "https://localhost:8080/"
        },
        "id": "pG52KBlYBLKu",
        "outputId": "db07fdd3-382e-459f-ca2c-74160e35b798"
      },
      "execution_count": 31,
      "outputs": [
        {
          "output_type": "stream",
          "name": "stdout",
          "text": [
            "1\n"
          ]
        }
      ]
    },
    {
      "cell_type": "code",
      "source": [
        "nums = list(map(int, input('Enter some number: ').split()))\n",
        "num2 = list(filter(lambda n: n%2==0, nums))\n",
        "print(reduce(lambda x,y: x+y, num2))"
      ],
      "metadata": {
        "id": "AOwlr5FKCnWJ",
        "outputId": "d79c6426-2064-4bf5-f47b-33cf8b038048",
        "colab": {
          "base_uri": "https://localhost:8080/"
        }
      },
      "execution_count": 34,
      "outputs": [
        {
          "output_type": "stream",
          "name": "stdout",
          "text": [
            "Enter some number: 1 2 3 4 5 6\n",
            "12\n"
          ]
        }
      ]
    },
    {
      "cell_type": "code",
      "source": [
        "nums = list(map(int, input('Enter some number: ').split()))\n",
        "print(nums)"
      ],
      "metadata": {
        "id": "DfnnKlLcD1Gj",
        "outputId": "8ba3d780-838d-4927-fc9e-dc1c1cf1f318",
        "colab": {
          "base_uri": "https://localhost:8080/"
        }
      },
      "execution_count": 40,
      "outputs": [
        {
          "output_type": "stream",
          "name": "stdout",
          "text": [
            "Enter some number: 1 2 3 4 5 6 7 8\n",
            "[1, 2, 3, 4, 5, 6, 7, 8]\n"
          ]
        }
      ]
    },
    {
      "cell_type": "code",
      "source": [
        "num2 = list(filter(lambda n: n%2==0, nums))\n",
        "print(num2)"
      ],
      "metadata": {
        "id": "UefFHRbPEG44",
        "outputId": "0ab05287-be8b-419c-ab81-2dc77db7c370",
        "colab": {
          "base_uri": "https://localhost:8080/"
        }
      },
      "execution_count": 41,
      "outputs": [
        {
          "output_type": "stream",
          "name": "stdout",
          "text": [
            "[2, 4, 6, 8]\n"
          ]
        }
      ]
    },
    {
      "cell_type": "code",
      "source": [
        "print(reduce(lambda x,y: x+y, num2))"
      ],
      "metadata": {
        "id": "0AZWxgxHEK_B",
        "outputId": "b84bacda-b6e5-420f-c0c1-23f37ad10998",
        "colab": {
          "base_uri": "https://localhost:8080/"
        }
      },
      "execution_count": 42,
      "outputs": [
        {
          "output_type": "stream",
          "name": "stdout",
          "text": [
            "20\n"
          ]
        }
      ]
    },
    {
      "cell_type": "code",
      "source": [],
      "metadata": {
        "id": "b0TcG5bnEWa4"
      },
      "execution_count": null,
      "outputs": []
    }
  ],
  "metadata": {
    "colab": {
      "name": "Colab's New Code Editor",
      "provenance": [],
      "include_colab_link": true
    },
    "kernelspec": {
      "display_name": "Python 3",
      "name": "python3"
    }
  },
  "nbformat": 4,
  "nbformat_minor": 0
}