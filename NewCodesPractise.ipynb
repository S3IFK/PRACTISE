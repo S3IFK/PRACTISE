{
  "cells": [
    {
      "cell_type": "markdown",
      "metadata": {
        "id": "view-in-github",
        "colab_type": "text"
      },
      "source": [
        "<a href=\"https://colab.research.google.com/github/S3IFK/Practise/blob/main/NewCodesPractise.ipynb\" target=\"_parent\"><img src=\"https://colab.research.google.com/assets/colab-badge.svg\" alt=\"Open In Colab\"/></a>"
      ]
    },
    {
      "cell_type": "code",
      "source": [
        "import numpy as np\n",
        "import pandas as pd"
      ],
      "metadata": {
        "id": "4qLmzgMyBnKq"
      },
      "execution_count": 25,
      "outputs": []
    },
    {
      "cell_type": "code",
      "source": [
        "kg2ws = lambda kg: kg*1000\n",
        "print(kg2ws(5))"
      ],
      "metadata": {
        "colab": {
          "base_uri": "https://localhost:8080/"
        },
        "id": "aAC95EgwroYD",
        "outputId": "b26121a1-d7f5-41e1-a094-3767c5293366"
      },
      "execution_count": 26,
      "outputs": [
        {
          "output_type": "stream",
          "name": "stdout",
          "text": [
            "5000\n"
          ]
        }
      ]
    },
    {
      "cell_type": "code",
      "source": [
        "evenodd = lambda num: True if num%2 ==0 else False"
      ],
      "metadata": {
        "id": "1CB2A3QksCZN"
      },
      "execution_count": 27,
      "outputs": []
    },
    {
      "cell_type": "code",
      "source": [
        "evenodd(2)"
      ],
      "metadata": {
        "colab": {
          "base_uri": "https://localhost:8080/"
        },
        "id": "7JlkeRx9sZpB",
        "outputId": "29dee219-1ec7-49d1-9fc4-280616f37390"
      },
      "execution_count": 28,
      "outputs": [
        {
          "output_type": "execute_result",
          "data": {
            "text/plain": [
              "True"
            ]
          },
          "metadata": {},
          "execution_count": 28
        }
      ]
    },
    {
      "cell_type": "code",
      "source": [
        "evenodd = lambda num: num%2 ==0"
      ],
      "metadata": {
        "id": "qbKmAQDXsbZQ"
      },
      "execution_count": 29,
      "outputs": []
    },
    {
      "cell_type": "code",
      "source": [
        "print(evenodd(5))\n",
        "print(evenodd(4))"
      ],
      "metadata": {
        "colab": {
          "base_uri": "https://localhost:8080/"
        },
        "id": "SEBbkC1DstxX",
        "outputId": "d65c357b-70ea-4253-92cc-f638c3d6be03"
      },
      "execution_count": 30,
      "outputs": [
        {
          "output_type": "stream",
          "name": "stdout",
          "text": [
            "False\n",
            "True\n"
          ]
        }
      ]
    },
    {
      "cell_type": "code",
      "source": [
        "s = lambda x,y: x+y"
      ],
      "metadata": {
        "id": "7KdTlhvLswAh"
      },
      "execution_count": 31,
      "outputs": []
    },
    {
      "cell_type": "code",
      "source": [
        "s(4,5)"
      ],
      "metadata": {
        "colab": {
          "base_uri": "https://localhost:8080/"
        },
        "id": "DdL8A1PmtKV9",
        "outputId": "9dd7fc60-5f22-4fb3-e112-28e8aed4c8fb"
      },
      "execution_count": 32,
      "outputs": [
        {
          "output_type": "execute_result",
          "data": {
            "text/plain": [
              "9"
            ]
          },
          "metadata": {},
          "execution_count": 32
        }
      ]
    },
    {
      "cell_type": "code",
      "source": [
        "numlist=[1,2,3,4,5,6,7,8,9]\n",
        "\n",
        "#map\n",
        "print(map(lambda x: x**2, numlist))"
      ],
      "metadata": {
        "colab": {
          "base_uri": "https://localhost:8080/"
        },
        "id": "NYpuSNtEtMV9",
        "outputId": "10cd3144-1322-4690-b54f-0ba505c19a18"
      },
      "execution_count": 33,
      "outputs": [
        {
          "output_type": "stream",
          "name": "stdout",
          "text": [
            "<map object at 0x7f5651dd6b50>\n"
          ]
        }
      ]
    },
    {
      "cell_type": "code",
      "source": [
        "print(list(map(lambda x: x**3, numlist)))\n",
        "print(set(map(lambda x: x**2, numlist)))\n",
        "print(tuple(map(lambda x: x**3, numlist)))"
      ],
      "metadata": {
        "colab": {
          "base_uri": "https://localhost:8080/"
        },
        "id": "TPSRsURIvWu6",
        "outputId": "f4f7e10e-5bf3-4a65-fd16-306708b0192d"
      },
      "execution_count": 34,
      "outputs": [
        {
          "output_type": "stream",
          "name": "stdout",
          "text": [
            "[1, 8, 27, 64, 125, 216, 343, 512, 729]\n",
            "{64, 1, 4, 36, 9, 16, 49, 81, 25}\n",
            "(1, 8, 27, 64, 125, 216, 343, 512, 729)\n"
          ]
        }
      ]
    },
    {
      "cell_type": "code",
      "source": [
        "usr_in = input('Enter some intergers with space separated: ')\n",
        "print(usr_in)\n",
        "usr_split = usr_in.split()\n",
        "print(usr_split)\n",
        "print(list(map(int, usr_split)))"
      ],
      "metadata": {
        "colab": {
          "base_uri": "https://localhost:8080/"
        },
        "id": "iX0Q_eUlvix5",
        "outputId": "7e63dd62-04ea-4ec0-8030-76da85e753fc"
      },
      "execution_count": 35,
      "outputs": [
        {
          "output_type": "stream",
          "name": "stdout",
          "text": [
            "Enter some intergers with space separated: 1 3 4 6 7 8\n",
            "1 3 4 6 7 8\n",
            "['1', '3', '4', '6', '7', '8']\n",
            "[1, 3, 4, 6, 7, 8]\n"
          ]
        }
      ]
    },
    {
      "cell_type": "code",
      "source": [
        "print(list(map(int, input('Enter some number: ').split())))"
      ],
      "metadata": {
        "colab": {
          "base_uri": "https://localhost:8080/"
        },
        "id": "ZUTwdoNtxhj-",
        "outputId": "89c75b31-15bb-4588-a467-e3fbd1851806"
      },
      "execution_count": 36,
      "outputs": [
        {
          "output_type": "stream",
          "name": "stdout",
          "text": [
            "Enter some number: 5 6  7 8\n",
            "[5, 6, 7, 8]\n"
          ]
        }
      ]
    },
    {
      "cell_type": "code",
      "source": [
        "print(list(filter(lambda num: num%2 ==0, numlist)))"
      ],
      "metadata": {
        "colab": {
          "base_uri": "https://localhost:8080/"
        },
        "id": "g0iliH4Ox6iq",
        "outputId": "2dfea90f-04bf-4cd0-ec38-db6b5f518664"
      },
      "execution_count": 37,
      "outputs": [
        {
          "output_type": "stream",
          "name": "stdout",
          "text": [
            "[2, 4, 6, 8]\n"
          ]
        }
      ]
    },
    {
      "cell_type": "code",
      "source": [
        "gtbox = ['bread','iph*one','buter','ip*ad','milk']"
      ],
      "metadata": {
        "id": "EPRDS2uMyPgM"
      },
      "execution_count": 38,
      "outputs": []
    },
    {
      "cell_type": "code",
      "source": [
        "print(list(filter(lambda x: '*' in x, gtbox)))"
      ],
      "metadata": {
        "colab": {
          "base_uri": "https://localhost:8080/"
        },
        "id": "xePD-KaP9Lwh",
        "outputId": "fdebaee2-dc3f-4c09-ead1-3133fd1a77a4"
      },
      "execution_count": 39,
      "outputs": [
        {
          "output_type": "stream",
          "name": "stdout",
          "text": [
            "['iph*one', 'ip*ad']\n"
          ]
        }
      ]
    },
    {
      "cell_type": "code",
      "source": [
        "#reduce\n",
        "from functools import reduce"
      ],
      "metadata": {
        "id": "FH01gUGR9gbB"
      },
      "execution_count": 40,
      "outputs": []
    },
    {
      "cell_type": "code",
      "source": [
        "print(reduce(lambda x,y: x+y, numlist))"
      ],
      "metadata": {
        "colab": {
          "base_uri": "https://localhost:8080/"
        },
        "id": "_LWp80O5-kYW",
        "outputId": "37fbbdaa-d6d5-488b-9231-3849cb0bc114"
      },
      "execution_count": 41,
      "outputs": [
        {
          "output_type": "stream",
          "name": "stdout",
          "text": [
            "45\n"
          ]
        }
      ]
    },
    {
      "cell_type": "code",
      "source": [
        "def Funcsum(x,y):\n",
        "  print(f'x is {x}; y is {y}; Sum of it is {x+y}')\n",
        "  return x+y\n",
        "\n",
        "print(reduce(Funcsum ,numlist))"
      ],
      "metadata": {
        "colab": {
          "base_uri": "https://localhost:8080/"
        },
        "id": "UBjbQB4cAV1h",
        "outputId": "50f10604-d912-4f95-ab47-917f21f8c91a"
      },
      "execution_count": 42,
      "outputs": [
        {
          "output_type": "stream",
          "name": "stdout",
          "text": [
            "x is 1; y is 2; Sum of it is 3\n",
            "x is 3; y is 3; Sum of it is 6\n",
            "x is 6; y is 4; Sum of it is 10\n",
            "x is 10; y is 5; Sum of it is 15\n",
            "x is 15; y is 6; Sum of it is 21\n",
            "x is 21; y is 7; Sum of it is 28\n",
            "x is 28; y is 8; Sum of it is 36\n",
            "x is 36; y is 9; Sum of it is 45\n",
            "45\n"
          ]
        }
      ]
    },
    {
      "cell_type": "code",
      "source": [
        "print(reduce(lambda x,y: x if x<y else y, numlist))"
      ],
      "metadata": {
        "colab": {
          "base_uri": "https://localhost:8080/"
        },
        "id": "pG52KBlYBLKu",
        "outputId": "fe798fdb-98ec-45b6-ddad-eda38fe56aa8"
      },
      "execution_count": 43,
      "outputs": [
        {
          "output_type": "stream",
          "name": "stdout",
          "text": [
            "1\n"
          ]
        }
      ]
    },
    {
      "cell_type": "code",
      "source": [
        "nums = list(map(int, input('Enter some number: ').split()))\n",
        "num2 = list(filter(lambda n: n%2==0, nums))\n",
        "print(reduce(lambda x,y: x+y, num2))"
      ],
      "metadata": {
        "id": "AOwlr5FKCnWJ",
        "outputId": "9ad8289c-033f-4071-a5a1-e3488493e781",
        "colab": {
          "base_uri": "https://localhost:8080/"
        }
      },
      "execution_count": 45,
      "outputs": [
        {
          "output_type": "stream",
          "name": "stdout",
          "text": [
            "Enter some number: 1 2 3 4 5\n",
            "6\n"
          ]
        }
      ]
    },
    {
      "cell_type": "code",
      "source": [
        "nums = list(map(int, input('Enter some number: ').split()))\n",
        "print(nums)"
      ],
      "metadata": {
        "id": "DfnnKlLcD1Gj",
        "outputId": "c2f45aa9-d69f-409f-ceda-7b4fc3d34b43",
        "colab": {
          "base_uri": "https://localhost:8080/"
        }
      },
      "execution_count": 46,
      "outputs": [
        {
          "output_type": "stream",
          "name": "stdout",
          "text": [
            "Enter some number: 1 2 3 4 \n",
            "[1, 2, 3, 4]\n"
          ]
        }
      ]
    },
    {
      "cell_type": "code",
      "source": [
        "num2 = list(filter(lambda n: n%2==0, nums))\n",
        "print(num2)"
      ],
      "metadata": {
        "id": "UefFHRbPEG44",
        "outputId": "59be075f-45e0-4b10-cd6b-8996376712fe",
        "colab": {
          "base_uri": "https://localhost:8080/"
        }
      },
      "execution_count": 47,
      "outputs": [
        {
          "output_type": "stream",
          "name": "stdout",
          "text": [
            "[2, 4]\n"
          ]
        }
      ]
    },
    {
      "cell_type": "code",
      "source": [
        "print(reduce(lambda x,y: x+y, num2))"
      ],
      "metadata": {
        "id": "0AZWxgxHEK_B",
        "outputId": "2afa15ed-dc6f-48a2-d713-a08bde28bc69",
        "colab": {
          "base_uri": "https://localhost:8080/"
        }
      },
      "execution_count": 48,
      "outputs": [
        {
          "output_type": "stream",
          "name": "stdout",
          "text": [
            "6\n"
          ]
        }
      ]
    },
    {
      "cell_type": "code",
      "source": [
        "my_list = [100,200,2 , 'Ronaldo', False]"
      ],
      "metadata": {
        "id": "b0TcG5bnEWa4"
      },
      "execution_count": 49,
      "outputs": []
    },
    {
      "cell_type": "code",
      "source": [
        "print(my_list, type(my_list))"
      ],
      "metadata": {
        "id": "Y8tjO7eZUWKa",
        "outputId": "850edd11-24eb-4ef2-d015-460c7b0ee8b8",
        "colab": {
          "base_uri": "https://localhost:8080/"
        }
      },
      "execution_count": 50,
      "outputs": [
        {
          "output_type": "stream",
          "name": "stdout",
          "text": [
            "[100, 200, 2, 'Ronaldo', False] <class 'list'>\n"
          ]
        }
      ]
    },
    {
      "cell_type": "code",
      "source": [
        "my_list= [100,200,300,40]\n",
        "print([x+1 for x in my_list])"
      ],
      "metadata": {
        "id": "8vYYaCY8U3nL",
        "outputId": "45df1a20-6336-42c6-e763-819d5101f5ec",
        "colab": {
          "base_uri": "https://localhost:8080/"
        }
      },
      "execution_count": 51,
      "outputs": [
        {
          "output_type": "stream",
          "name": "stdout",
          "text": [
            "[101, 201, 301, 41]\n"
          ]
        }
      ]
    },
    {
      "cell_type": "code",
      "source": [
        "my_lst = [1,2,3,4,5,6]\n",
        "type(my_lst)"
      ],
      "metadata": {
        "id": "t3B5P6JbV0WT",
        "colab": {
          "base_uri": "https://localhost:8080/"
        },
        "outputId": "906296a2-c695-428f-b115-02e150bcd2e7"
      },
      "execution_count": 1,
      "outputs": [
        {
          "output_type": "execute_result",
          "data": {
            "text/plain": [
              "list"
            ]
          },
          "metadata": {},
          "execution_count": 1
        }
      ]
    },
    {
      "cell_type": "code",
      "source": [
        "import numpy as np\n",
        "import pandas as pd\n",
        "import warnings\n",
        "warnings.filterwarnings('ignore')\n",
        "arr = np.array([1,2,3,4,5,6.2])\n",
        "print(arr, arr.dtype)"
      ],
      "metadata": {
        "colab": {
          "base_uri": "https://localhost:8080/"
        },
        "id": "Dnodr-t9YpzW",
        "outputId": "2afdf657-cb26-4f46-dc3c-db6320734901"
      },
      "execution_count": 2,
      "outputs": [
        {
          "output_type": "stream",
          "name": "stdout",
          "text": [
            "[1.  2.  3.  4.  5.  6.2] float64\n"
          ]
        }
      ]
    },
    {
      "cell_type": "code",
      "source": [
        "arr = np.array([1,2,3,\"4\",5,6.2])\n",
        "print(arr, type(arr))"
      ],
      "metadata": {
        "colab": {
          "base_uri": "https://localhost:8080/"
        },
        "id": "JXMqzD1AY6k9",
        "outputId": "f62d813a-0abb-4223-eac3-0b95109ba101"
      },
      "execution_count": 3,
      "outputs": [
        {
          "output_type": "stream",
          "name": "stdout",
          "text": [
            "['1' '2' '3' '4' '5' '6.2'] <class 'numpy.ndarray'>\n"
          ]
        }
      ]
    },
    {
      "cell_type": "code",
      "source": [
        "arr.dtype"
      ],
      "metadata": {
        "colab": {
          "base_uri": "https://localhost:8080/"
        },
        "id": "-S24YtjLZwEn",
        "outputId": "05a589d5-b027-4965-dbd0-223cf54569f3"
      },
      "execution_count": 4,
      "outputs": [
        {
          "output_type": "execute_result",
          "data": {
            "text/plain": [
              "dtype('<U32')"
            ]
          },
          "metadata": {},
          "execution_count": 4
        }
      ]
    },
    {
      "cell_type": "code",
      "source": [
        "my_list = [[1,2,3],[4,5,6],[8,9,10]]"
      ],
      "metadata": {
        "id": "2CEyx85mZ0i6"
      },
      "execution_count": 5,
      "outputs": []
    },
    {
      "cell_type": "code",
      "source": [
        "art = np.array(my_list)"
      ],
      "metadata": {
        "id": "G-fOkHr0aVUL"
      },
      "execution_count": 6,
      "outputs": []
    },
    {
      "cell_type": "code",
      "source": [
        "print(art)"
      ],
      "metadata": {
        "colab": {
          "base_uri": "https://localhost:8080/"
        },
        "id": "bKqplb6facIs",
        "outputId": "2d49b0f6-f793-4af5-b121-02cecccd527c"
      },
      "execution_count": 7,
      "outputs": [
        {
          "output_type": "stream",
          "name": "stdout",
          "text": [
            "[[ 1  2  3]\n",
            " [ 4  5  6]\n",
            " [ 8  9 10]]\n"
          ]
        }
      ]
    },
    {
      "cell_type": "code",
      "source": [
        "print(art.shape)"
      ],
      "metadata": {
        "colab": {
          "base_uri": "https://localhost:8080/"
        },
        "id": "LjC2BsY1aedx",
        "outputId": "41eab332-9a22-48c9-f35b-9cf1d1b0a1c0"
      },
      "execution_count": 8,
      "outputs": [
        {
          "output_type": "stream",
          "name": "stdout",
          "text": [
            "(3, 3)\n"
          ]
        }
      ]
    },
    {
      "cell_type": "code",
      "source": [
        "print(my_list[1])"
      ],
      "metadata": {
        "colab": {
          "base_uri": "https://localhost:8080/"
        },
        "id": "HTzcYfpybpxf",
        "outputId": "09769812-93c6-46d0-87ba-0162922eeb1a"
      },
      "execution_count": 9,
      "outputs": [
        {
          "output_type": "stream",
          "name": "stdout",
          "text": [
            "[4, 5, 6]\n"
          ]
        }
      ]
    },
    {
      "cell_type": "code",
      "source": [
        "print(art[2][2])\n",
        "\n",
        "print(art[1,2])"
      ],
      "metadata": {
        "colab": {
          "base_uri": "https://localhost:8080/"
        },
        "id": "Me2Zxrkgcra2",
        "outputId": "8957570d-594e-4cec-f24d-30ac44330f0a"
      },
      "execution_count": 10,
      "outputs": [
        {
          "output_type": "stream",
          "name": "stdout",
          "text": [
            "10\n",
            "6\n"
          ]
        }
      ]
    },
    {
      "cell_type": "code",
      "source": [
        "my_list[2][0] = 8.2\n",
        "\n",
        "print(my_list)"
      ],
      "metadata": {
        "colab": {
          "base_uri": "https://localhost:8080/"
        },
        "id": "QORmIlLbdSa1",
        "outputId": "f220489e-825a-4463-8e1a-acf6f1c62d71"
      },
      "execution_count": 11,
      "outputs": [
        {
          "output_type": "stream",
          "name": "stdout",
          "text": [
            "[[1, 2, 3], [4, 5, 6], [8.2, 9, 10]]\n"
          ]
        }
      ]
    },
    {
      "cell_type": "code",
      "source": [
        "art[2,0] = 8.23"
      ],
      "metadata": {
        "id": "cGEc-wrNdzS-"
      },
      "execution_count": 12,
      "outputs": []
    },
    {
      "cell_type": "code",
      "source": [
        "print(art)"
      ],
      "metadata": {
        "colab": {
          "base_uri": "https://localhost:8080/"
        },
        "id": "O7Fw-mjad-0M",
        "outputId": "8dc8cab8-d4f3-4eda-fde7-79428431bea2"
      },
      "execution_count": 13,
      "outputs": [
        {
          "output_type": "stream",
          "name": "stdout",
          "text": [
            "[[ 1  2  3]\n",
            " [ 4  5  6]\n",
            " [ 8  9 10]]\n"
          ]
        }
      ]
    },
    {
      "cell_type": "code",
      "source": [
        "arm = np.arange(0,11,5)\n",
        "print(arm)"
      ],
      "metadata": {
        "colab": {
          "base_uri": "https://localhost:8080/"
        },
        "id": "8DPWgMOAeAR8",
        "outputId": "d076625b-90f2-4095-99da-a1f64842d2f0"
      },
      "execution_count": 14,
      "outputs": [
        {
          "output_type": "stream",
          "name": "stdout",
          "text": [
            "[ 0  5 10]\n"
          ]
        }
      ]
    },
    {
      "cell_type": "code",
      "source": [
        "arr = np.zeros((5,4))\n",
        "print(arr)"
      ],
      "metadata": {
        "colab": {
          "base_uri": "https://localhost:8080/"
        },
        "id": "CkrKjuJPhnKk",
        "outputId": "e4c9255c-adcc-452d-9c6a-f2fc60cccba9"
      },
      "execution_count": 15,
      "outputs": [
        {
          "output_type": "stream",
          "name": "stdout",
          "text": [
            "[[0. 0. 0. 0.]\n",
            " [0. 0. 0. 0.]\n",
            " [0. 0. 0. 0.]\n",
            " [0. 0. 0. 0.]\n",
            " [0. 0. 0. 0.]]\n"
          ]
        }
      ]
    },
    {
      "cell_type": "code",
      "source": [
        "from numpy.core.memmap import dtype\n",
        "arr = np.zeros((5,4), dtype = int)\n",
        "print(arr)"
      ],
      "metadata": {
        "colab": {
          "base_uri": "https://localhost:8080/"
        },
        "id": "GzPzIgGijU9B",
        "outputId": "001a863e-48d9-4907-877f-84e769fe6d7c"
      },
      "execution_count": 16,
      "outputs": [
        {
          "output_type": "stream",
          "name": "stdout",
          "text": [
            "[[0 0 0 0]\n",
            " [0 0 0 0]\n",
            " [0 0 0 0]\n",
            " [0 0 0 0]\n",
            " [0 0 0 0]]\n"
          ]
        }
      ]
    },
    {
      "cell_type": "code",
      "source": [
        "arr = np.ones((5,4))\n",
        "print(arr)\n",
        "\n",
        "\n",
        "arr = np.ones((5,4), dtype = int)\n",
        "print(arr)\n",
        "\n"
      ],
      "metadata": {
        "colab": {
          "base_uri": "https://localhost:8080/"
        },
        "id": "p0MiXzFTkVyj",
        "outputId": "b8d54053-a373-4799-8ffa-9d03656a04fd"
      },
      "execution_count": 17,
      "outputs": [
        {
          "output_type": "stream",
          "name": "stdout",
          "text": [
            "[[1. 1. 1. 1.]\n",
            " [1. 1. 1. 1.]\n",
            " [1. 1. 1. 1.]\n",
            " [1. 1. 1. 1.]\n",
            " [1. 1. 1. 1.]]\n",
            "[[1 1 1 1]\n",
            " [1 1 1 1]\n",
            " [1 1 1 1]\n",
            " [1 1 1 1]\n",
            " [1 1 1 1]]\n"
          ]
        }
      ]
    },
    {
      "cell_type": "code",
      "source": [
        "## linearly spaced data\n",
        "arg = np.linspace(1,7,10)\n",
        "print(arg)\n",
        "\n",
        "anm = np.linspace(1,7,20)\n",
        "print(anm)"
      ],
      "metadata": {
        "colab": {
          "base_uri": "https://localhost:8080/"
        },
        "id": "_scBNioyksVg",
        "outputId": "9efa151f-3d83-4983-dc04-990d5bc6984c"
      },
      "execution_count": 18,
      "outputs": [
        {
          "output_type": "stream",
          "name": "stdout",
          "text": [
            "[1.         1.66666667 2.33333333 3.         3.66666667 4.33333333\n",
            " 5.         5.66666667 6.33333333 7.        ]\n",
            "[1.         1.31578947 1.63157895 1.94736842 2.26315789 2.57894737\n",
            " 2.89473684 3.21052632 3.52631579 3.84210526 4.15789474 4.47368421\n",
            " 4.78947368 5.10526316 5.42105263 5.73684211 6.05263158 6.36842105\n",
            " 6.68421053 7.        ]\n"
          ]
        }
      ]
    },
    {
      "cell_type": "code",
      "source": [
        "agm = np.eye(10)\n",
        "print(agm)"
      ],
      "metadata": {
        "colab": {
          "base_uri": "https://localhost:8080/"
        },
        "id": "Gp_d3UCulNn0",
        "outputId": "406dfd76-dc04-488f-f00f-3c6594bea565"
      },
      "execution_count": 19,
      "outputs": [
        {
          "output_type": "stream",
          "name": "stdout",
          "text": [
            "[[1. 0. 0. 0. 0. 0. 0. 0. 0. 0.]\n",
            " [0. 1. 0. 0. 0. 0. 0. 0. 0. 0.]\n",
            " [0. 0. 1. 0. 0. 0. 0. 0. 0. 0.]\n",
            " [0. 0. 0. 1. 0. 0. 0. 0. 0. 0.]\n",
            " [0. 0. 0. 0. 1. 0. 0. 0. 0. 0.]\n",
            " [0. 0. 0. 0. 0. 1. 0. 0. 0. 0.]\n",
            " [0. 0. 0. 0. 0. 0. 1. 0. 0. 0.]\n",
            " [0. 0. 0. 0. 0. 0. 0. 1. 0. 0.]\n",
            " [0. 0. 0. 0. 0. 0. 0. 0. 1. 0.]\n",
            " [0. 0. 0. 0. 0. 0. 0. 0. 0. 1.]]\n"
          ]
        }
      ]
    },
    {
      "cell_type": "code",
      "source": [
        "\n",
        "import numpy as np\n",
        "import pandas as pd\n",
        "akm = np.random.rand(1,7)"
      ],
      "metadata": {
        "id": "yvTKlw1pmIK3"
      },
      "execution_count": 20,
      "outputs": []
    },
    {
      "cell_type": "code",
      "source": [
        "print(akm)"
      ],
      "metadata": {
        "colab": {
          "base_uri": "https://localhost:8080/"
        },
        "id": "TCyRk4yDVsfI",
        "outputId": "627b57e2-9ef0-4b44-ba4b-0da8fe892f67"
      },
      "execution_count": 21,
      "outputs": [
        {
          "output_type": "stream",
          "name": "stdout",
          "text": [
            "[[0.16540313 0.31714124 0.39925908 0.20996987 0.30029474 0.49424677\n",
            "  0.86106534]]\n"
          ]
        }
      ]
    },
    {
      "cell_type": "code",
      "source": [
        "akm = np.random.randint(1,100,(10,1))\n",
        "print(akm)\n"
      ],
      "metadata": {
        "colab": {
          "base_uri": "https://localhost:8080/"
        },
        "id": "Xu16Lzd1WKMX",
        "outputId": "49457820-a169-4df7-cbd1-df61755bf7e7"
      },
      "execution_count": 22,
      "outputs": [
        {
          "output_type": "stream",
          "name": "stdout",
          "text": [
            "[[36]\n",
            " [34]\n",
            " [74]\n",
            " [28]\n",
            " [64]\n",
            " [53]\n",
            " [46]\n",
            " [20]\n",
            " [30]\n",
            " [52]]\n"
          ]
        }
      ]
    },
    {
      "cell_type": "code",
      "source": [
        "print(akm.reshape(1,10))"
      ],
      "metadata": {
        "colab": {
          "base_uri": "https://localhost:8080/"
        },
        "id": "RJ82_sqyWPJj",
        "outputId": "7477911d-2758-452f-b3ae-ca363f2260a7"
      },
      "execution_count": 23,
      "outputs": [
        {
          "output_type": "stream",
          "name": "stdout",
          "text": [
            "[[36 34 74 28 64 53 46 20 30 52]]\n"
          ]
        }
      ]
    },
    {
      "cell_type": "code",
      "source": [
        "print(akm.sum())"
      ],
      "metadata": {
        "colab": {
          "base_uri": "https://localhost:8080/"
        },
        "id": "79J88EUfXe0S",
        "outputId": "6aa4949f-e40b-499d-9c69-a16adeab2786"
      },
      "execution_count": 24,
      "outputs": [
        {
          "output_type": "stream",
          "name": "stdout",
          "text": [
            "437\n"
          ]
        }
      ]
    },
    {
      "cell_type": "code",
      "source": [
        "print(arm.sum())"
      ],
      "metadata": {
        "colab": {
          "base_uri": "https://localhost:8080/"
        },
        "id": "e0aSSB5SYYOM",
        "outputId": "0441f2bd-642b-4436-ab1b-faada20a6e3e"
      },
      "execution_count": 25,
      "outputs": [
        {
          "output_type": "stream",
          "name": "stdout",
          "text": [
            "15\n"
          ]
        }
      ]
    },
    {
      "cell_type": "code",
      "source": [
        "print(agm.sum())"
      ],
      "metadata": {
        "colab": {
          "base_uri": "https://localhost:8080/"
        },
        "id": "shkA245MYce8",
        "outputId": "65ae38f2-1dbc-4ea8-f0ed-f74a2c064e4f"
      },
      "execution_count": 26,
      "outputs": [
        {
          "output_type": "stream",
          "name": "stdout",
          "text": [
            "10.0\n"
          ]
        }
      ]
    },
    {
      "cell_type": "code",
      "source": [
        "print(akm.sum(axis=0))"
      ],
      "metadata": {
        "colab": {
          "base_uri": "https://localhost:8080/"
        },
        "id": "FPK1Co-XZFWf",
        "outputId": "52504139-5854-4c85-9da1-c219610449cf"
      },
      "execution_count": 27,
      "outputs": [
        {
          "output_type": "stream",
          "name": "stdout",
          "text": [
            "[437]\n"
          ]
        }
      ]
    },
    {
      "cell_type": "code",
      "source": [
        "print(arm.sum(axis=0))"
      ],
      "metadata": {
        "colab": {
          "base_uri": "https://localhost:8080/"
        },
        "id": "3nTs7s_TZysM",
        "outputId": "26f00af0-0f7e-4ab5-8218-b55bbba17d86"
      },
      "execution_count": 28,
      "outputs": [
        {
          "output_type": "stream",
          "name": "stdout",
          "text": [
            "15\n"
          ]
        }
      ]
    },
    {
      "cell_type": "code",
      "source": [
        "print(akm.mean(axis=0))"
      ],
      "metadata": {
        "colab": {
          "base_uri": "https://localhost:8080/"
        },
        "id": "5RC3RliTZ3Bw",
        "outputId": "0786ac6c-5852-45fe-d072-809e167b1c9b"
      },
      "execution_count": 29,
      "outputs": [
        {
          "output_type": "stream",
          "name": "stdout",
          "text": [
            "[43.7]\n"
          ]
        }
      ]
    },
    {
      "cell_type": "code",
      "source": [
        "print(arm.mean(axis=0))"
      ],
      "metadata": {
        "colab": {
          "base_uri": "https://localhost:8080/"
        },
        "id": "pzZrrsy2b6EP",
        "outputId": "2387cdf2-3a62-4f83-91cf-e711d07afa9d"
      },
      "execution_count": 30,
      "outputs": [
        {
          "output_type": "stream",
          "name": "stdout",
          "text": [
            "5.0\n"
          ]
        }
      ]
    },
    {
      "cell_type": "code",
      "source": [
        "print(np.linspace(1,20,20, dtype=int))"
      ],
      "metadata": {
        "colab": {
          "base_uri": "https://localhost:8080/"
        },
        "id": "bS3KbhZccPjw",
        "outputId": "fe07ec07-d253-4f00-c489-822c339f07d2"
      },
      "execution_count": 39,
      "outputs": [
        {
          "output_type": "stream",
          "name": "stdout",
          "text": [
            "[ 1  2  3  4  5  6  7  8  9 10 11 12 13 14 15 16 17 18 19 20]\n"
          ]
        }
      ]
    },
    {
      "cell_type": "code",
      "source": [
        "print(np.linspace(1,20,20, dtype=int).reshape(2,10))"
      ],
      "metadata": {
        "id": "Yhduo2vNijSl",
        "outputId": "8379d9de-76a7-4796-9d66-68e2eaf4ad5b",
        "colab": {
          "base_uri": "https://localhost:8080/"
        }
      },
      "execution_count": 42,
      "outputs": [
        {
          "output_type": "stream",
          "name": "stdout",
          "text": [
            "[[ 1  2  3  4  5  6  7  8  9 10]\n",
            " [11 12 13 14 15 16 17 18 19 20]]\n"
          ]
        }
      ]
    },
    {
      "cell_type": "code",
      "source": [
        "arr = np.arange(10)"
      ],
      "metadata": {
        "id": "SYChbrTFjTjp"
      },
      "execution_count": 43,
      "outputs": []
    },
    {
      "cell_type": "code",
      "source": [
        "print(arr)\n",
        "\n",
        "print(arr>5)\n",
        "\n",
        "print(arr[arr>4])"
      ],
      "metadata": {
        "id": "7ygUjoBij5P_",
        "outputId": "05727a4f-d7dd-402f-92e4-d96527130868",
        "colab": {
          "base_uri": "https://localhost:8080/"
        }
      },
      "execution_count": 46,
      "outputs": [
        {
          "output_type": "stream",
          "name": "stdout",
          "text": [
            "[0 1 2 3 4 5 6 7 8 9]\n",
            "[False False False False False False  True  True  True  True]\n",
            "[5 6 7 8 9]\n"
          ]
        }
      ]
    },
    {
      "cell_type": "code",
      "source": [
        "arj = np.arange(10)\n",
        "\n",
        "print(arj%2==0)\n",
        "\n",
        "print(arj[arj%2==0])"
      ],
      "metadata": {
        "id": "co3o2Gzpj72X",
        "outputId": "676b86d4-e96b-4153-e805-1c737f460dab",
        "colab": {
          "base_uri": "https://localhost:8080/"
        }
      },
      "execution_count": 48,
      "outputs": [
        {
          "output_type": "stream",
          "name": "stdout",
          "text": [
            "[ True False  True False  True False  True False  True False]\n",
            "[0 2 4 6 8]\n"
          ]
        }
      ]
    },
    {
      "cell_type": "code",
      "source": [
        "lst = list(range(1,11))\n",
        "arr= np.arange(1,11)\n",
        "print(lst)\n",
        "print(arr)"
      ],
      "metadata": {
        "id": "h_uAhO2Rk7xj",
        "outputId": "424fa518-e450-4fa5-e01c-c768494c5528",
        "colab": {
          "base_uri": "https://localhost:8080/"
        }
      },
      "execution_count": 50,
      "outputs": [
        {
          "output_type": "stream",
          "name": "stdout",
          "text": [
            "[1, 2, 3, 4, 5, 6, 7, 8, 9, 10]\n",
            "[ 1  2  3  4  5  6  7  8  9 10]\n"
          ]
        }
      ]
    },
    {
      "cell_type": "code",
      "source": [
        "print(lst+lst)\n",
        "print(arr+arr)"
      ],
      "metadata": {
        "id": "5x49pmjPrp1c",
        "outputId": "ce662bfb-6d3c-4fee-ed1b-d35bc44b63ea",
        "colab": {
          "base_uri": "https://localhost:8080/"
        }
      },
      "execution_count": 51,
      "outputs": [
        {
          "output_type": "stream",
          "name": "stdout",
          "text": [
            "[1, 2, 3, 4, 5, 6, 7, 8, 9, 10, 1, 2, 3, 4, 5, 6, 7, 8, 9, 10]\n",
            "[ 2  4  6  8 10 12 14 16 18 20]\n"
          ]
        }
      ]
    },
    {
      "cell_type": "code",
      "source": [
        "##print(lst-lst)\n",
        "print(arr-arr)"
      ],
      "metadata": {
        "id": "eEBZ7J0Cr0hV",
        "outputId": "55a0a9eb-736b-4c1a-ff56-507273ad5d6b",
        "colab": {
          "base_uri": "https://localhost:8080/"
        }
      },
      "execution_count": 53,
      "outputs": [
        {
          "output_type": "stream",
          "name": "stdout",
          "text": [
            "[0 0 0 0 0 0 0 0 0 0]\n"
          ]
        }
      ]
    },
    {
      "cell_type": "code",
      "source": [
        "##print(lst*lst)\n",
        "print(arr*arr)  "
      ],
      "metadata": {
        "id": "ESEAmy12r5_v",
        "outputId": "435fde79-ac55-449a-e01f-aadc87a61d4a",
        "colab": {
          "base_uri": "https://localhost:8080/"
        }
      },
      "execution_count": 55,
      "outputs": [
        {
          "output_type": "stream",
          "name": "stdout",
          "text": [
            "[  1   4   9  16  25  36  49  64  81 100]\n"
          ]
        }
      ]
    },
    {
      "cell_type": "code",
      "source": [
        "print(arr/arr)"
      ],
      "metadata": {
        "id": "YVJ4uj98sU0C",
        "outputId": "ffc71180-e66c-4284-aca5-b9cd9f263cb8",
        "colab": {
          "base_uri": "https://localhost:8080/"
        }
      },
      "execution_count": 56,
      "outputs": [
        {
          "output_type": "stream",
          "name": "stdout",
          "text": [
            "[1. 1. 1. 1. 1. 1. 1. 1. 1. 1.]\n"
          ]
        }
      ]
    },
    {
      "cell_type": "code",
      "source": [
        "print(arr%arr)"
      ],
      "metadata": {
        "id": "eEKRXunssbQi",
        "outputId": "6d19c3dc-9321-442d-de40-48f0bc9159e4",
        "colab": {
          "base_uri": "https://localhost:8080/"
        }
      },
      "execution_count": 57,
      "outputs": [
        {
          "output_type": "stream",
          "name": "stdout",
          "text": [
            "[0 0 0 0 0 0 0 0 0 0]\n"
          ]
        }
      ]
    },
    {
      "cell_type": "code",
      "source": [
        "print(lst*2)\n",
        "print(arr*2)"
      ],
      "metadata": {
        "id": "TCoyiSCXsdgB",
        "outputId": "a42093f8-fccc-4ab6-985f-f1cc88adeece",
        "colab": {
          "base_uri": "https://localhost:8080/"
        }
      },
      "execution_count": 59,
      "outputs": [
        {
          "output_type": "stream",
          "name": "stdout",
          "text": [
            "[1, 2, 3, 4, 5, 6, 7, 8, 9, 10, 1, 2, 3, 4, 5, 6, 7, 8, 9, 10]\n",
            "[ 2  4  6  8 10 12 14 16 18 20]\n"
          ]
        }
      ]
    },
    {
      "cell_type": "code",
      "source": [
        "print(arr**(1/2))\n",
        "print(np.sqrt(arr))"
      ],
      "metadata": {
        "id": "iywVIXHmsi3A",
        "outputId": "b60d079a-2408-49d3-a0bd-34394d094836",
        "colab": {
          "base_uri": "https://localhost:8080/"
        }
      },
      "execution_count": 61,
      "outputs": [
        {
          "output_type": "stream",
          "name": "stdout",
          "text": [
            "[1.         1.41421356 1.73205081 2.         2.23606798 2.44948974\n",
            " 2.64575131 2.82842712 3.         3.16227766]\n",
            "[1.         1.41421356 1.73205081 2.         2.23606798 2.44948974\n",
            " 2.64575131 2.82842712 3.         3.16227766]\n"
          ]
        }
      ]
    },
    {
      "cell_type": "code",
      "source": [
        "print(np.log(arr))\n",
        "print(np.sin(arr))\n",
        "print(np.cos(arr))"
      ],
      "metadata": {
        "id": "S311GBQLtHAi",
        "outputId": "9c1573b4-9df3-417f-b7b8-9ddf45d28b3a",
        "colab": {
          "base_uri": "https://localhost:8080/"
        }
      },
      "execution_count": 65,
      "outputs": [
        {
          "output_type": "stream",
          "name": "stdout",
          "text": [
            "[0.         0.69314718 1.09861229 1.38629436 1.60943791 1.79175947\n",
            " 1.94591015 2.07944154 2.19722458 2.30258509]\n",
            "[ 0.84147098  0.90929743  0.14112001 -0.7568025  -0.95892427 -0.2794155\n",
            "  0.6569866   0.98935825  0.41211849 -0.54402111]\n",
            "[ 0.54030231 -0.41614684 -0.9899925  -0.65364362  0.28366219  0.96017029\n",
            "  0.75390225 -0.14550003 -0.91113026 -0.83907153]\n"
          ]
        }
      ]
    },
    {
      "cell_type": "code",
      "source": [
        "print(np.where(arr ==6))"
      ],
      "metadata": {
        "id": "jKHb92tetx7s",
        "outputId": "1ea9db3d-2309-4823-f931-4781242e15ea",
        "colab": {
          "base_uri": "https://localhost:8080/"
        }
      },
      "execution_count": 66,
      "outputs": [
        {
          "output_type": "stream",
          "name": "stdout",
          "text": [
            "(array([5]),)\n"
          ]
        }
      ]
    },
    {
      "cell_type": "code",
      "source": [
        "hkm = np.random.randint(-99,99,10)\n",
        "print(hkm)"
      ],
      "metadata": {
        "id": "e1Ts8NDVu6dP",
        "outputId": "b17693ec-377d-4e8f-a822-d8cd9dff1aa1",
        "colab": {
          "base_uri": "https://localhost:8080/"
        }
      },
      "execution_count": 67,
      "outputs": [
        {
          "output_type": "stream",
          "name": "stdout",
          "text": [
            "[ -2  60 -27 -14  93 -46  49  46   0 -93]\n"
          ]
        }
      ]
    },
    {
      "cell_type": "code",
      "source": [
        "print(np.sort(hkm))"
      ],
      "metadata": {
        "id": "cBQWuXbnw1R4",
        "outputId": "cd6efe1a-6b68-44aa-c51a-0195d17bc927",
        "colab": {
          "base_uri": "https://localhost:8080/"
        }
      },
      "execution_count": 68,
      "outputs": [
        {
          "output_type": "stream",
          "name": "stdout",
          "text": [
            "[-93 -46 -27 -14  -2   0  46  49  60  93]\n"
          ]
        }
      ]
    },
    {
      "cell_type": "code",
      "source": [
        "print(~np.sort(hkm))"
      ],
      "metadata": {
        "id": "b_WoB9C5w7c3",
        "outputId": "d17edc61-2845-4854-f3d5-9cb97287f658",
        "colab": {
          "base_uri": "https://localhost:8080/"
        }
      },
      "execution_count": 70,
      "outputs": [
        {
          "output_type": "stream",
          "name": "stdout",
          "text": [
            "[ 92  45  26  13   1  -1 -47 -50 -61 -94]\n"
          ]
        }
      ]
    },
    {
      "cell_type": "code",
      "source": [
        "print(np.vstack((hkm,hkm)))"
      ],
      "metadata": {
        "id": "VSr1mursxCrG",
        "outputId": "d6238b49-acc8-4fac-de32-fd6ed0eceb7e",
        "colab": {
          "base_uri": "https://localhost:8080/"
        }
      },
      "execution_count": 73,
      "outputs": [
        {
          "output_type": "stream",
          "name": "stdout",
          "text": [
            "[[ -2  60 -27 -14  93 -46  49  46   0 -93]\n",
            " [ -2  60 -27 -14  93 -46  49  46   0 -93]]\n"
          ]
        }
      ]
    },
    {
      "cell_type": "code",
      "source": [
        "print(np.hstack((hkm,hkm)))"
      ],
      "metadata": {
        "id": "PsG4vcZn1DbB",
        "outputId": "f17ed07b-885b-43df-ae14-de410deded10",
        "colab": {
          "base_uri": "https://localhost:8080/"
        }
      },
      "execution_count": 74,
      "outputs": [
        {
          "output_type": "stream",
          "name": "stdout",
          "text": [
            "[ -2  60 -27 -14  93 -46  49  46   0 -93  -2  60 -27 -14  93 -46  49  46\n",
            "   0 -93]\n"
          ]
        }
      ]
    },
    {
      "cell_type": "code",
      "source": [
        "print(np.isnan(arr).sum(axis=0))"
      ],
      "metadata": {
        "id": "8FIejM3C1dpZ",
        "outputId": "3b9e8d23-7734-4f4e-c4e9-f2d604f0108b",
        "colab": {
          "base_uri": "https://localhost:8080/"
        }
      },
      "execution_count": 79,
      "outputs": [
        {
          "output_type": "stream",
          "name": "stdout",
          "text": [
            "0\n"
          ]
        }
      ]
    },
    {
      "cell_type": "code",
      "source": [],
      "metadata": {
        "id": "GTOFjSMr2fys"
      },
      "execution_count": null,
      "outputs": []
    }
  ],
  "metadata": {
    "colab": {
      "name": "Colab's New Code Editor",
      "provenance": [],
      "include_colab_link": true
    },
    "kernelspec": {
      "display_name": "Python 3",
      "name": "python3"
    }
  },
  "nbformat": 4,
  "nbformat_minor": 0
}