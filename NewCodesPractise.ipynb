{
  "cells": [
    {
      "cell_type": "markdown",
      "metadata": {
        "id": "view-in-github",
        "colab_type": "text"
      },
      "source": [
        "<a href=\"https://colab.research.google.com/github/S3IFK/Practise/blob/main/NewCodesPractise.ipynb\" target=\"_parent\"><img src=\"https://colab.research.google.com/assets/colab-badge.svg\" alt=\"Open In Colab\"/></a>"
      ]
    },
    {
      "cell_type": "code",
      "source": [
        "import numpy as np\n",
        "import pandas as pd"
      ],
      "metadata": {
        "id": "4qLmzgMyBnKq"
      },
      "execution_count": null,
      "outputs": []
    },
    {
      "cell_type": "code",
      "source": [
        "kg2ws = lambda kg: kg*1000\n",
        "print(kg2ws(5))"
      ],
      "metadata": {
        "colab": {
          "base_uri": "https://localhost:8080/"
        },
        "id": "aAC95EgwroYD",
        "outputId": "07a586cd-e9ee-4b41-d683-17b48931ee64"
      },
      "execution_count": null,
      "outputs": [
        {
          "output_type": "stream",
          "name": "stdout",
          "text": [
            "5000\n"
          ]
        }
      ]
    },
    {
      "cell_type": "code",
      "source": [
        "evenodd = lambda num: True if num%2 ==0 else False"
      ],
      "metadata": {
        "id": "1CB2A3QksCZN"
      },
      "execution_count": null,
      "outputs": []
    },
    {
      "cell_type": "code",
      "source": [
        "evenodd(2)"
      ],
      "metadata": {
        "colab": {
          "base_uri": "https://localhost:8080/"
        },
        "id": "7JlkeRx9sZpB",
        "outputId": "e47abf07-cf67-4395-c3a3-3d94f1da5a18"
      },
      "execution_count": null,
      "outputs": [
        {
          "output_type": "execute_result",
          "data": {
            "text/plain": [
              "True"
            ]
          },
          "metadata": {},
          "execution_count": 5
        }
      ]
    },
    {
      "cell_type": "code",
      "source": [
        "evenodd = lambda num: num%2 ==0"
      ],
      "metadata": {
        "id": "qbKmAQDXsbZQ"
      },
      "execution_count": null,
      "outputs": []
    },
    {
      "cell_type": "code",
      "source": [
        "print(evenodd(5))\n",
        "print(evenodd(4))"
      ],
      "metadata": {
        "colab": {
          "base_uri": "https://localhost:8080/"
        },
        "id": "SEBbkC1DstxX",
        "outputId": "59d7fbae-b859-44de-80c1-b35397bac3b5"
      },
      "execution_count": null,
      "outputs": [
        {
          "output_type": "stream",
          "name": "stdout",
          "text": [
            "False\n",
            "True\n"
          ]
        }
      ]
    },
    {
      "cell_type": "code",
      "source": [
        "s = lambda x,y: x+y"
      ],
      "metadata": {
        "id": "7KdTlhvLswAh"
      },
      "execution_count": null,
      "outputs": []
    },
    {
      "cell_type": "code",
      "source": [
        "s(4,5)"
      ],
      "metadata": {
        "colab": {
          "base_uri": "https://localhost:8080/"
        },
        "id": "DdL8A1PmtKV9",
        "outputId": "408833fe-9526-43be-8750-788017c60826"
      },
      "execution_count": null,
      "outputs": [
        {
          "output_type": "execute_result",
          "data": {
            "text/plain": [
              "9"
            ]
          },
          "metadata": {},
          "execution_count": 11
        }
      ]
    },
    {
      "cell_type": "code",
      "source": [
        "numlist=[1,2,3,4,5,6,7,8,9]\n",
        "\n",
        "#map\n",
        "print(map(lambda x: x**2, numlist))"
      ],
      "metadata": {
        "colab": {
          "base_uri": "https://localhost:8080/"
        },
        "id": "NYpuSNtEtMV9",
        "outputId": "19642255-1e52-443c-a9e3-998878ef7b5a"
      },
      "execution_count": null,
      "outputs": [
        {
          "output_type": "stream",
          "name": "stdout",
          "text": [
            "<map object at 0x7f6fca8fe670>\n"
          ]
        }
      ]
    },
    {
      "cell_type": "code",
      "source": [
        "print(list(map(lambda x: x**3, numlist)))\n",
        "print(set(map(lambda x: x**2, numlist)))\n",
        "print(tuple(map(lambda x: x**3, numlist)))"
      ],
      "metadata": {
        "colab": {
          "base_uri": "https://localhost:8080/"
        },
        "id": "TPSRsURIvWu6",
        "outputId": "4a7b1d37-baa0-48a6-d5ba-44140600d07e"
      },
      "execution_count": null,
      "outputs": [
        {
          "output_type": "stream",
          "name": "stdout",
          "text": [
            "[1, 8, 27, 64, 125, 216, 343, 512, 729]\n",
            "{64, 1, 4, 36, 9, 16, 49, 81, 25}\n",
            "(1, 8, 27, 64, 125, 216, 343, 512, 729)\n"
          ]
        }
      ]
    },
    {
      "cell_type": "code",
      "source": [
        "usr_in = input('Enter some intergers with space separated: ')\n",
        "print(usr_in)\n",
        "usr_split = usr_in.split()\n",
        "print(usr_split)\n",
        "print(list(map(int, usr_split)))"
      ],
      "metadata": {
        "colab": {
          "base_uri": "https://localhost:8080/"
        },
        "id": "iX0Q_eUlvix5",
        "outputId": "0dd46340-e062-4103-e23f-fd308d31a1bd"
      },
      "execution_count": null,
      "outputs": [
        {
          "output_type": "stream",
          "name": "stdout",
          "text": [
            "Enter some intergers with space separated: 1 2 3 4 5\n",
            "1 2 3 4 5\n",
            "['1', '2', '3', '4', '5']\n",
            "[1, 2, 3, 4, 5]\n"
          ]
        }
      ]
    },
    {
      "cell_type": "code",
      "source": [
        "print(list(map(int, input('Enter some number: ').split())))"
      ],
      "metadata": {
        "colab": {
          "base_uri": "https://localhost:8080/"
        },
        "id": "ZUTwdoNtxhj-",
        "outputId": "49d720c9-b3f2-4cd3-f1b2-72e97bacd3af"
      },
      "execution_count": null,
      "outputs": [
        {
          "output_type": "stream",
          "name": "stdout",
          "text": [
            "Enter some number: 1 2 3\n",
            "[1, 2, 3]\n"
          ]
        }
      ]
    },
    {
      "cell_type": "code",
      "source": [
        "print(list(filter(lambda num: num%2 ==0, numlist)))"
      ],
      "metadata": {
        "colab": {
          "base_uri": "https://localhost:8080/"
        },
        "id": "g0iliH4Ox6iq",
        "outputId": "049e4f60-ad95-4df0-924b-7dc15d14ed30"
      },
      "execution_count": null,
      "outputs": [
        {
          "output_type": "stream",
          "name": "stdout",
          "text": [
            "[2, 4, 6, 8]\n"
          ]
        }
      ]
    },
    {
      "cell_type": "code",
      "source": [
        "gtbox = ['bread','iph*one','buter','ip*ad','milk']"
      ],
      "metadata": {
        "id": "EPRDS2uMyPgM"
      },
      "execution_count": null,
      "outputs": []
    },
    {
      "cell_type": "code",
      "source": [
        "print(list(filter(lambda x: '*' in x, gtbox)))"
      ],
      "metadata": {
        "colab": {
          "base_uri": "https://localhost:8080/"
        },
        "id": "xePD-KaP9Lwh",
        "outputId": "66ec76c3-10c2-4529-d511-5b91b1407b41"
      },
      "execution_count": null,
      "outputs": [
        {
          "output_type": "stream",
          "name": "stdout",
          "text": [
            "['iph*one', 'ip*ad']\n"
          ]
        }
      ]
    },
    {
      "cell_type": "code",
      "source": [
        "#reduce\n",
        "from functools import reduce"
      ],
      "metadata": {
        "id": "FH01gUGR9gbB"
      },
      "execution_count": null,
      "outputs": []
    },
    {
      "cell_type": "code",
      "source": [
        "print(reduce(lambda x,y: x+y, numlist))"
      ],
      "metadata": {
        "colab": {
          "base_uri": "https://localhost:8080/"
        },
        "id": "_LWp80O5-kYW",
        "outputId": "79e3e907-beef-48ed-be3f-e0df7d6ba1a4"
      },
      "execution_count": null,
      "outputs": [
        {
          "output_type": "stream",
          "name": "stdout",
          "text": [
            "45\n"
          ]
        }
      ]
    },
    {
      "cell_type": "code",
      "source": [
        "def Funcsum(x,y):\n",
        "  print(f'x is {x}; y is {y}; Sum of it is {x+y}')\n",
        "  return x+y\n",
        "\n",
        "print(reduce(Funcsum ,numlist))"
      ],
      "metadata": {
        "colab": {
          "base_uri": "https://localhost:8080/"
        },
        "id": "UBjbQB4cAV1h",
        "outputId": "351f3b7c-ad14-4039-a2d0-1778040836e0"
      },
      "execution_count": null,
      "outputs": [
        {
          "output_type": "stream",
          "name": "stdout",
          "text": [
            "x is 1; y is 2; Sum of it is 3\n",
            "x is 3; y is 3; Sum of it is 6\n",
            "x is 6; y is 4; Sum of it is 10\n",
            "x is 10; y is 5; Sum of it is 15\n",
            "x is 15; y is 6; Sum of it is 21\n",
            "x is 21; y is 7; Sum of it is 28\n",
            "x is 28; y is 8; Sum of it is 36\n",
            "x is 36; y is 9; Sum of it is 45\n",
            "45\n"
          ]
        }
      ]
    },
    {
      "cell_type": "code",
      "source": [
        "print(reduce(lambda x,y: x if x<y else y, numlist))"
      ],
      "metadata": {
        "colab": {
          "base_uri": "https://localhost:8080/"
        },
        "id": "pG52KBlYBLKu",
        "outputId": "db07fdd3-382e-459f-ca2c-74160e35b798"
      },
      "execution_count": null,
      "outputs": [
        {
          "output_type": "stream",
          "name": "stdout",
          "text": [
            "1\n"
          ]
        }
      ]
    },
    {
      "cell_type": "code",
      "source": [
        "nums = list(map(int, input('Enter some number: ').split()))\n",
        "num2 = list(filter(lambda n: n%2==0, nums))\n",
        "print(reduce(lambda x,y: x+y, num2))"
      ],
      "metadata": {
        "id": "AOwlr5FKCnWJ",
        "outputId": "d79c6426-2064-4bf5-f47b-33cf8b038048",
        "colab": {
          "base_uri": "https://localhost:8080/"
        }
      },
      "execution_count": null,
      "outputs": [
        {
          "output_type": "stream",
          "name": "stdout",
          "text": [
            "Enter some number: 1 2 3 4 5 6\n",
            "12\n"
          ]
        }
      ]
    },
    {
      "cell_type": "code",
      "source": [
        "nums = list(map(int, input('Enter some number: ').split()))\n",
        "print(nums)"
      ],
      "metadata": {
        "id": "DfnnKlLcD1Gj",
        "outputId": "8ba3d780-838d-4927-fc9e-dc1c1cf1f318",
        "colab": {
          "base_uri": "https://localhost:8080/"
        }
      },
      "execution_count": null,
      "outputs": [
        {
          "output_type": "stream",
          "name": "stdout",
          "text": [
            "Enter some number: 1 2 3 4 5 6 7 8\n",
            "[1, 2, 3, 4, 5, 6, 7, 8]\n"
          ]
        }
      ]
    },
    {
      "cell_type": "code",
      "source": [
        "num2 = list(filter(lambda n: n%2==0, nums))\n",
        "print(num2)"
      ],
      "metadata": {
        "id": "UefFHRbPEG44",
        "outputId": "0ab05287-be8b-419c-ab81-2dc77db7c370",
        "colab": {
          "base_uri": "https://localhost:8080/"
        }
      },
      "execution_count": null,
      "outputs": [
        {
          "output_type": "stream",
          "name": "stdout",
          "text": [
            "[2, 4, 6, 8]\n"
          ]
        }
      ]
    },
    {
      "cell_type": "code",
      "source": [
        "print(reduce(lambda x,y: x+y, num2))"
      ],
      "metadata": {
        "id": "0AZWxgxHEK_B",
        "outputId": "b84bacda-b6e5-420f-c0c1-23f37ad10998",
        "colab": {
          "base_uri": "https://localhost:8080/"
        }
      },
      "execution_count": null,
      "outputs": [
        {
          "output_type": "stream",
          "name": "stdout",
          "text": [
            "20\n"
          ]
        }
      ]
    },
    {
      "cell_type": "code",
      "source": [
        "my_list = [100,200,2 , 'Ronaldo', False]"
      ],
      "metadata": {
        "id": "b0TcG5bnEWa4"
      },
      "execution_count": null,
      "outputs": []
    },
    {
      "cell_type": "code",
      "source": [
        "print(my_list, type(my_list))"
      ],
      "metadata": {
        "id": "Y8tjO7eZUWKa",
        "outputId": "28bf87c3-5641-416b-e7c4-88033091ef24",
        "colab": {
          "base_uri": "https://localhost:8080/"
        }
      },
      "execution_count": null,
      "outputs": [
        {
          "output_type": "stream",
          "name": "stdout",
          "text": [
            "[100, 200, 2, 'Ronaldo', False] <class 'list'>\n"
          ]
        }
      ]
    },
    {
      "cell_type": "code",
      "source": [
        "my_list= [100,200,300,40]\n",
        "print([x+1 for x in my_list])"
      ],
      "metadata": {
        "id": "8vYYaCY8U3nL",
        "outputId": "3d62c706-cc22-4102-c815-b74207d495d6",
        "colab": {
          "base_uri": "https://localhost:8080/"
        }
      },
      "execution_count": null,
      "outputs": [
        {
          "output_type": "stream",
          "name": "stdout",
          "text": [
            "[101, 201, 301, 41]\n"
          ]
        }
      ]
    },
    {
      "cell_type": "code",
      "source": [
        "my_lst = [1,2,3,4,5,6]\n",
        "type(my_lst)"
      ],
      "metadata": {
        "id": "t3B5P6JbV0WT",
        "outputId": "865bb7bd-b55c-4a6e-9941-eccb5715bce7",
        "colab": {
          "base_uri": "https://localhost:8080/"
        }
      },
      "execution_count": 1,
      "outputs": [
        {
          "output_type": "execute_result",
          "data": {
            "text/plain": [
              "list"
            ]
          },
          "metadata": {},
          "execution_count": 1
        }
      ]
    },
    {
      "cell_type": "code",
      "source": [
        "import numpy as np\n",
        "import pandas as pd\n",
        "import warnings\n",
        "warnings.filterwarnings('ignore')\n",
        "arr = np.array([1,2,3,4,5,6.2])\n",
        "print(arr, arr.dtype)"
      ],
      "metadata": {
        "id": "Dnodr-t9YpzW",
        "outputId": "f65cb743-c794-4ead-c9ee-c39d1cb94bbf",
        "colab": {
          "base_uri": "https://localhost:8080/"
        }
      },
      "execution_count": 8,
      "outputs": [
        {
          "output_type": "stream",
          "name": "stdout",
          "text": [
            "[1.  2.  3.  4.  5.  6.2] float64\n"
          ]
        }
      ]
    },
    {
      "cell_type": "code",
      "source": [
        "arr = np.array([1,2,3,\"4\",5,6.2])\n",
        "print(arr, type(arr))"
      ],
      "metadata": {
        "id": "JXMqzD1AY6k9",
        "outputId": "37e058cc-c83c-4232-899a-244d851b62dc",
        "colab": {
          "base_uri": "https://localhost:8080/"
        }
      },
      "execution_count": 5,
      "outputs": [
        {
          "output_type": "stream",
          "name": "stdout",
          "text": [
            "['1' '2' '3' '4' '5' '6.2'] <class 'numpy.ndarray'>\n"
          ]
        }
      ]
    },
    {
      "cell_type": "code",
      "source": [
        "arr.dtype"
      ],
      "metadata": {
        "id": "-S24YtjLZwEn",
        "outputId": "c55f87fd-257f-4504-bed7-2801ddf965cf",
        "colab": {
          "base_uri": "https://localhost:8080/"
        }
      },
      "execution_count": 7,
      "outputs": [
        {
          "output_type": "execute_result",
          "data": {
            "text/plain": [
              "dtype('<U32')"
            ]
          },
          "metadata": {},
          "execution_count": 7
        }
      ]
    },
    {
      "cell_type": "code",
      "source": [
        "my_list = [[1,2,3],[4,5,6],[8,9,10]]"
      ],
      "metadata": {
        "id": "2CEyx85mZ0i6"
      },
      "execution_count": 19,
      "outputs": []
    },
    {
      "cell_type": "code",
      "source": [
        "art = np.array(my_list)"
      ],
      "metadata": {
        "id": "G-fOkHr0aVUL"
      },
      "execution_count": 20,
      "outputs": []
    },
    {
      "cell_type": "code",
      "source": [
        "print(art)"
      ],
      "metadata": {
        "id": "bKqplb6facIs",
        "outputId": "f99524ad-8d47-4095-8966-31d04807a07e",
        "colab": {
          "base_uri": "https://localhost:8080/"
        }
      },
      "execution_count": 21,
      "outputs": [
        {
          "output_type": "stream",
          "name": "stdout",
          "text": [
            "[[ 1  2  3]\n",
            " [ 4  5  6]\n",
            " [ 8  9 10]]\n"
          ]
        }
      ]
    },
    {
      "cell_type": "code",
      "source": [
        "print(art.shape)"
      ],
      "metadata": {
        "id": "LjC2BsY1aedx",
        "outputId": "ceb24f07-215f-4b7b-d6e1-aef5e271616f",
        "colab": {
          "base_uri": "https://localhost:8080/"
        }
      },
      "execution_count": 22,
      "outputs": [
        {
          "output_type": "stream",
          "name": "stdout",
          "text": [
            "(3, 3)\n"
          ]
        }
      ]
    },
    {
      "cell_type": "code",
      "source": [
        "print(my_list[1])"
      ],
      "metadata": {
        "id": "HTzcYfpybpxf",
        "outputId": "0ec7f878-3339-472b-9654-aea6eac04f15",
        "colab": {
          "base_uri": "https://localhost:8080/"
        }
      },
      "execution_count": 33,
      "outputs": [
        {
          "output_type": "stream",
          "name": "stdout",
          "text": [
            "[4, 5, 6]\n"
          ]
        }
      ]
    },
    {
      "cell_type": "code",
      "source": [
        "print(art[2][2])\n",
        "\n",
        "print(art[1,2])"
      ],
      "metadata": {
        "id": "Me2Zxrkgcra2",
        "outputId": "048e30a1-1fc5-4476-c8d2-e149a6065f3d",
        "colab": {
          "base_uri": "https://localhost:8080/"
        }
      },
      "execution_count": 35,
      "outputs": [
        {
          "output_type": "stream",
          "name": "stdout",
          "text": [
            "10\n",
            "6\n"
          ]
        }
      ]
    },
    {
      "cell_type": "code",
      "source": [
        "my_list[2][0] = 8.2\n",
        "\n",
        "print(my_list)"
      ],
      "metadata": {
        "id": "QORmIlLbdSa1",
        "outputId": "c8cbdfe0-baae-402b-dc59-90d737358b4a",
        "colab": {
          "base_uri": "https://localhost:8080/"
        }
      },
      "execution_count": 37,
      "outputs": [
        {
          "output_type": "stream",
          "name": "stdout",
          "text": [
            "[[1, 2, 3], [4, 5, 6], [8.2, 9, 10]]\n"
          ]
        }
      ]
    },
    {
      "cell_type": "code",
      "source": [
        "art[2,0] = 8.23"
      ],
      "metadata": {
        "id": "cGEc-wrNdzS-"
      },
      "execution_count": 46,
      "outputs": []
    },
    {
      "cell_type": "code",
      "source": [
        "print(art)"
      ],
      "metadata": {
        "id": "O7Fw-mjad-0M",
        "outputId": "2d403477-5780-460a-f01b-46bd5acd9471",
        "colab": {
          "base_uri": "https://localhost:8080/"
        }
      },
      "execution_count": 47,
      "outputs": [
        {
          "output_type": "stream",
          "name": "stdout",
          "text": [
            "[[ 1  2  3]\n",
            " [ 4  5  6]\n",
            " [ 8  9 10]]\n"
          ]
        }
      ]
    },
    {
      "cell_type": "code",
      "source": [
        "arm = np.arange(0,11,5)\n",
        "print(arm)"
      ],
      "metadata": {
        "id": "8DPWgMOAeAR8",
        "outputId": "d668c60d-9989-4e9e-bdbf-54d158d4c694",
        "colab": {
          "base_uri": "https://localhost:8080/"
        }
      },
      "execution_count": 52,
      "outputs": [
        {
          "output_type": "stream",
          "name": "stdout",
          "text": [
            "[ 0  5 10]\n"
          ]
        }
      ]
    },
    {
      "cell_type": "code",
      "source": [
        "arr = np.zeros((5,4))\n",
        "print(arr)"
      ],
      "metadata": {
        "id": "CkrKjuJPhnKk",
        "outputId": "676cf4ff-de30-4278-973d-82d673c83313",
        "colab": {
          "base_uri": "https://localhost:8080/"
        }
      },
      "execution_count": 54,
      "outputs": [
        {
          "output_type": "stream",
          "name": "stdout",
          "text": [
            "[[0. 0. 0. 0.]\n",
            " [0. 0. 0. 0.]\n",
            " [0. 0. 0. 0.]\n",
            " [0. 0. 0. 0.]\n",
            " [0. 0. 0. 0.]]\n"
          ]
        }
      ]
    },
    {
      "cell_type": "code",
      "source": [
        "from numpy.core.memmap import dtype\n",
        "arr = np.zeros((5,4), dtype = int)\n",
        "print(arr)"
      ],
      "metadata": {
        "id": "GzPzIgGijU9B",
        "outputId": "8a3fcec3-bcc7-4ac6-ca09-1e1eb22df848",
        "colab": {
          "base_uri": "https://localhost:8080/"
        }
      },
      "execution_count": 55,
      "outputs": [
        {
          "output_type": "stream",
          "name": "stdout",
          "text": [
            "[[0 0 0 0]\n",
            " [0 0 0 0]\n",
            " [0 0 0 0]\n",
            " [0 0 0 0]\n",
            " [0 0 0 0]]\n"
          ]
        }
      ]
    },
    {
      "cell_type": "code",
      "source": [
        "arr = np.ones((5,4))\n",
        "print(arr)\n",
        "\n",
        "\n",
        "arr = np.ones((5,4), dtype = int)\n",
        "print(arr)\n",
        "\n"
      ],
      "metadata": {
        "id": "p0MiXzFTkVyj",
        "outputId": "29c4afe2-7b88-458a-96ff-8387033487e9",
        "colab": {
          "base_uri": "https://localhost:8080/"
        }
      },
      "execution_count": 56,
      "outputs": [
        {
          "output_type": "stream",
          "name": "stdout",
          "text": [
            "[[1. 1. 1. 1.]\n",
            " [1. 1. 1. 1.]\n",
            " [1. 1. 1. 1.]\n",
            " [1. 1. 1. 1.]\n",
            " [1. 1. 1. 1.]]\n",
            "[[1 1 1 1]\n",
            " [1 1 1 1]\n",
            " [1 1 1 1]\n",
            " [1 1 1 1]\n",
            " [1 1 1 1]]\n"
          ]
        }
      ]
    },
    {
      "cell_type": "code",
      "source": [
        "## linearly spaced data\n",
        "arg = np.linspace(1,7,10)\n",
        "print(arg)\n",
        "\n",
        "anm = np.linspace(1,7,20)\n",
        "print(anm)"
      ],
      "metadata": {
        "id": "_scBNioyksVg",
        "outputId": "1534103a-4b49-4dc0-8ce6-5b64566fa5e0",
        "colab": {
          "base_uri": "https://localhost:8080/"
        }
      },
      "execution_count": 59,
      "outputs": [
        {
          "output_type": "stream",
          "name": "stdout",
          "text": [
            "[1.         1.66666667 2.33333333 3.         3.66666667 4.33333333\n",
            " 5.         5.66666667 6.33333333 7.        ]\n",
            "[1.         1.31578947 1.63157895 1.94736842 2.26315789 2.57894737\n",
            " 2.89473684 3.21052632 3.52631579 3.84210526 4.15789474 4.47368421\n",
            " 4.78947368 5.10526316 5.42105263 5.73684211 6.05263158 6.36842105\n",
            " 6.68421053 7.        ]\n"
          ]
        }
      ]
    },
    {
      "cell_type": "code",
      "source": [
        "agm = np.eye(10)\n",
        "print(agm)"
      ],
      "metadata": {
        "id": "Gp_d3UCulNn0",
        "outputId": "515b3ec6-14a0-44cf-e96f-efed37f8ee32",
        "colab": {
          "base_uri": "https://localhost:8080/"
        }
      },
      "execution_count": 62,
      "outputs": [
        {
          "output_type": "stream",
          "name": "stdout",
          "text": [
            "[[1. 0. 0. 0. 0. 0. 0. 0. 0. 0.]\n",
            " [0. 1. 0. 0. 0. 0. 0. 0. 0. 0.]\n",
            " [0. 0. 1. 0. 0. 0. 0. 0. 0. 0.]\n",
            " [0. 0. 0. 1. 0. 0. 0. 0. 0. 0.]\n",
            " [0. 0. 0. 0. 1. 0. 0. 0. 0. 0.]\n",
            " [0. 0. 0. 0. 0. 1. 0. 0. 0. 0.]\n",
            " [0. 0. 0. 0. 0. 0. 1. 0. 0. 0.]\n",
            " [0. 0. 0. 0. 0. 0. 0. 1. 0. 0.]\n",
            " [0. 0. 0. 0. 0. 0. 0. 0. 1. 0.]\n",
            " [0. 0. 0. 0. 0. 0. 0. 0. 0. 1.]]\n"
          ]
        }
      ]
    },
    {
      "cell_type": "code",
      "source": [],
      "metadata": {
        "id": "yvTKlw1pmIK3"
      },
      "execution_count": null,
      "outputs": []
    }
  ],
  "metadata": {
    "colab": {
      "name": "Colab's New Code Editor",
      "provenance": [],
      "include_colab_link": true
    },
    "kernelspec": {
      "display_name": "Python 3",
      "name": "python3"
    }
  },
  "nbformat": 4,
  "nbformat_minor": 0
}