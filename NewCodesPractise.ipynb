{
  "cells": [
    {
      "cell_type": "markdown",
      "metadata": {
        "id": "view-in-github",
        "colab_type": "text"
      },
      "source": [
        "<a href=\"https://colab.research.google.com/github/S3IFK/Practise/blob/main/NewCodesPractise.ipynb\" target=\"_parent\"><img src=\"https://colab.research.google.com/assets/colab-badge.svg\" alt=\"Open In Colab\"/></a>"
      ]
    },
    {
      "cell_type": "code",
      "source": [
        "import numpy as np\n",
        "import pandas as pd"
      ],
      "metadata": {
        "id": "4qLmzgMyBnKq"
      },
      "execution_count": 25,
      "outputs": []
    },
    {
      "cell_type": "code",
      "source": [
        "kg2ws = lambda kg: kg*1000\n",
        "print(kg2ws(5))"
      ],
      "metadata": {
        "colab": {
          "base_uri": "https://localhost:8080/"
        },
        "id": "aAC95EgwroYD",
        "outputId": "b26121a1-d7f5-41e1-a094-3767c5293366"
      },
      "execution_count": 26,
      "outputs": [
        {
          "output_type": "stream",
          "name": "stdout",
          "text": [
            "5000\n"
          ]
        }
      ]
    },
    {
      "cell_type": "code",
      "source": [
        "evenodd = lambda num: True if num%2 ==0 else False"
      ],
      "metadata": {
        "id": "1CB2A3QksCZN"
      },
      "execution_count": 27,
      "outputs": []
    },
    {
      "cell_type": "code",
      "source": [
        "evenodd(2)"
      ],
      "metadata": {
        "colab": {
          "base_uri": "https://localhost:8080/"
        },
        "id": "7JlkeRx9sZpB",
        "outputId": "29dee219-1ec7-49d1-9fc4-280616f37390"
      },
      "execution_count": 28,
      "outputs": [
        {
          "output_type": "execute_result",
          "data": {
            "text/plain": [
              "True"
            ]
          },
          "metadata": {},
          "execution_count": 28
        }
      ]
    },
    {
      "cell_type": "code",
      "source": [
        "evenodd = lambda num: num%2 ==0"
      ],
      "metadata": {
        "id": "qbKmAQDXsbZQ"
      },
      "execution_count": 29,
      "outputs": []
    },
    {
      "cell_type": "code",
      "source": [
        "print(evenodd(5))\n",
        "print(evenodd(4))"
      ],
      "metadata": {
        "colab": {
          "base_uri": "https://localhost:8080/"
        },
        "id": "SEBbkC1DstxX",
        "outputId": "d65c357b-70ea-4253-92cc-f638c3d6be03"
      },
      "execution_count": 30,
      "outputs": [
        {
          "output_type": "stream",
          "name": "stdout",
          "text": [
            "False\n",
            "True\n"
          ]
        }
      ]
    },
    {
      "cell_type": "code",
      "source": [
        "s = lambda x,y: x+y"
      ],
      "metadata": {
        "id": "7KdTlhvLswAh"
      },
      "execution_count": 31,
      "outputs": []
    },
    {
      "cell_type": "code",
      "source": [
        "s(4,5)"
      ],
      "metadata": {
        "colab": {
          "base_uri": "https://localhost:8080/"
        },
        "id": "DdL8A1PmtKV9",
        "outputId": "9dd7fc60-5f22-4fb3-e112-28e8aed4c8fb"
      },
      "execution_count": 32,
      "outputs": [
        {
          "output_type": "execute_result",
          "data": {
            "text/plain": [
              "9"
            ]
          },
          "metadata": {},
          "execution_count": 32
        }
      ]
    },
    {
      "cell_type": "code",
      "source": [
        "numlist=[1,2,3,4,5,6,7,8,9]\n",
        "\n",
        "#map\n",
        "print(map(lambda x: x**2, numlist))"
      ],
      "metadata": {
        "colab": {
          "base_uri": "https://localhost:8080/"
        },
        "id": "NYpuSNtEtMV9",
        "outputId": "10cd3144-1322-4690-b54f-0ba505c19a18"
      },
      "execution_count": 33,
      "outputs": [
        {
          "output_type": "stream",
          "name": "stdout",
          "text": [
            "<map object at 0x7f5651dd6b50>\n"
          ]
        }
      ]
    },
    {
      "cell_type": "code",
      "source": [
        "print(list(map(lambda x: x**3, numlist)))\n",
        "print(set(map(lambda x: x**2, numlist)))\n",
        "print(tuple(map(lambda x: x**3, numlist)))"
      ],
      "metadata": {
        "colab": {
          "base_uri": "https://localhost:8080/"
        },
        "id": "TPSRsURIvWu6",
        "outputId": "f4f7e10e-5bf3-4a65-fd16-306708b0192d"
      },
      "execution_count": 34,
      "outputs": [
        {
          "output_type": "stream",
          "name": "stdout",
          "text": [
            "[1, 8, 27, 64, 125, 216, 343, 512, 729]\n",
            "{64, 1, 4, 36, 9, 16, 49, 81, 25}\n",
            "(1, 8, 27, 64, 125, 216, 343, 512, 729)\n"
          ]
        }
      ]
    },
    {
      "cell_type": "code",
      "source": [
        "usr_in = input('Enter some intergers with space separated: ')\n",
        "print(usr_in)\n",
        "usr_split = usr_in.split()\n",
        "print(usr_split)\n",
        "print(list(map(int, usr_split)))"
      ],
      "metadata": {
        "colab": {
          "base_uri": "https://localhost:8080/"
        },
        "id": "iX0Q_eUlvix5",
        "outputId": "7e63dd62-04ea-4ec0-8030-76da85e753fc"
      },
      "execution_count": 35,
      "outputs": [
        {
          "output_type": "stream",
          "name": "stdout",
          "text": [
            "Enter some intergers with space separated: 1 3 4 6 7 8\n",
            "1 3 4 6 7 8\n",
            "['1', '3', '4', '6', '7', '8']\n",
            "[1, 3, 4, 6, 7, 8]\n"
          ]
        }
      ]
    },
    {
      "cell_type": "code",
      "source": [
        "print(list(map(int, input('Enter some number: ').split())))"
      ],
      "metadata": {
        "colab": {
          "base_uri": "https://localhost:8080/"
        },
        "id": "ZUTwdoNtxhj-",
        "outputId": "89c75b31-15bb-4588-a467-e3fbd1851806"
      },
      "execution_count": 36,
      "outputs": [
        {
          "output_type": "stream",
          "name": "stdout",
          "text": [
            "Enter some number: 5 6  7 8\n",
            "[5, 6, 7, 8]\n"
          ]
        }
      ]
    },
    {
      "cell_type": "code",
      "source": [
        "print(list(filter(lambda num: num%2 ==0, numlist)))"
      ],
      "metadata": {
        "colab": {
          "base_uri": "https://localhost:8080/"
        },
        "id": "g0iliH4Ox6iq",
        "outputId": "2dfea90f-04bf-4cd0-ec38-db6b5f518664"
      },
      "execution_count": 37,
      "outputs": [
        {
          "output_type": "stream",
          "name": "stdout",
          "text": [
            "[2, 4, 6, 8]\n"
          ]
        }
      ]
    },
    {
      "cell_type": "code",
      "source": [
        "gtbox = ['bread','iph*one','buter','ip*ad','milk']"
      ],
      "metadata": {
        "id": "EPRDS2uMyPgM"
      },
      "execution_count": 38,
      "outputs": []
    },
    {
      "cell_type": "code",
      "source": [
        "print(list(filter(lambda x: '*' in x, gtbox)))"
      ],
      "metadata": {
        "colab": {
          "base_uri": "https://localhost:8080/"
        },
        "id": "xePD-KaP9Lwh",
        "outputId": "fdebaee2-dc3f-4c09-ead1-3133fd1a77a4"
      },
      "execution_count": 39,
      "outputs": [
        {
          "output_type": "stream",
          "name": "stdout",
          "text": [
            "['iph*one', 'ip*ad']\n"
          ]
        }
      ]
    },
    {
      "cell_type": "code",
      "source": [
        "#reduce\n",
        "from functools import reduce"
      ],
      "metadata": {
        "id": "FH01gUGR9gbB"
      },
      "execution_count": 40,
      "outputs": []
    },
    {
      "cell_type": "code",
      "source": [
        "print(reduce(lambda x,y: x+y, numlist))"
      ],
      "metadata": {
        "colab": {
          "base_uri": "https://localhost:8080/"
        },
        "id": "_LWp80O5-kYW",
        "outputId": "37fbbdaa-d6d5-488b-9231-3849cb0bc114"
      },
      "execution_count": 41,
      "outputs": [
        {
          "output_type": "stream",
          "name": "stdout",
          "text": [
            "45\n"
          ]
        }
      ]
    },
    {
      "cell_type": "code",
      "source": [
        "def Funcsum(x,y):\n",
        "  print(f'x is {x}; y is {y}; Sum of it is {x+y}')\n",
        "  return x+y\n",
        "\n",
        "print(reduce(Funcsum ,numlist))"
      ],
      "metadata": {
        "colab": {
          "base_uri": "https://localhost:8080/"
        },
        "id": "UBjbQB4cAV1h",
        "outputId": "50f10604-d912-4f95-ab47-917f21f8c91a"
      },
      "execution_count": 42,
      "outputs": [
        {
          "output_type": "stream",
          "name": "stdout",
          "text": [
            "x is 1; y is 2; Sum of it is 3\n",
            "x is 3; y is 3; Sum of it is 6\n",
            "x is 6; y is 4; Sum of it is 10\n",
            "x is 10; y is 5; Sum of it is 15\n",
            "x is 15; y is 6; Sum of it is 21\n",
            "x is 21; y is 7; Sum of it is 28\n",
            "x is 28; y is 8; Sum of it is 36\n",
            "x is 36; y is 9; Sum of it is 45\n",
            "45\n"
          ]
        }
      ]
    },
    {
      "cell_type": "code",
      "source": [
        "print(reduce(lambda x,y: x if x<y else y, numlist))"
      ],
      "metadata": {
        "colab": {
          "base_uri": "https://localhost:8080/"
        },
        "id": "pG52KBlYBLKu",
        "outputId": "fe798fdb-98ec-45b6-ddad-eda38fe56aa8"
      },
      "execution_count": 43,
      "outputs": [
        {
          "output_type": "stream",
          "name": "stdout",
          "text": [
            "1\n"
          ]
        }
      ]
    },
    {
      "cell_type": "code",
      "source": [
        "nums = list(map(int, input('Enter some number: ').split()))\n",
        "num2 = list(filter(lambda n: n%2==0, nums))\n",
        "print(reduce(lambda x,y: x+y, num2))"
      ],
      "metadata": {
        "id": "AOwlr5FKCnWJ",
        "outputId": "9ad8289c-033f-4071-a5a1-e3488493e781",
        "colab": {
          "base_uri": "https://localhost:8080/"
        }
      },
      "execution_count": 45,
      "outputs": [
        {
          "output_type": "stream",
          "name": "stdout",
          "text": [
            "Enter some number: 1 2 3 4 5\n",
            "6\n"
          ]
        }
      ]
    },
    {
      "cell_type": "code",
      "source": [
        "nums = list(map(int, input('Enter some number: ').split()))\n",
        "print(nums)"
      ],
      "metadata": {
        "id": "DfnnKlLcD1Gj",
        "outputId": "c2f45aa9-d69f-409f-ceda-7b4fc3d34b43",
        "colab": {
          "base_uri": "https://localhost:8080/"
        }
      },
      "execution_count": 46,
      "outputs": [
        {
          "output_type": "stream",
          "name": "stdout",
          "text": [
            "Enter some number: 1 2 3 4 \n",
            "[1, 2, 3, 4]\n"
          ]
        }
      ]
    },
    {
      "cell_type": "code",
      "source": [
        "num2 = list(filter(lambda n: n%2==0, nums))\n",
        "print(num2)"
      ],
      "metadata": {
        "id": "UefFHRbPEG44",
        "outputId": "59be075f-45e0-4b10-cd6b-8996376712fe",
        "colab": {
          "base_uri": "https://localhost:8080/"
        }
      },
      "execution_count": 47,
      "outputs": [
        {
          "output_type": "stream",
          "name": "stdout",
          "text": [
            "[2, 4]\n"
          ]
        }
      ]
    },
    {
      "cell_type": "code",
      "source": [
        "print(reduce(lambda x,y: x+y, num2))"
      ],
      "metadata": {
        "id": "0AZWxgxHEK_B",
        "outputId": "2afa15ed-dc6f-48a2-d713-a08bde28bc69",
        "colab": {
          "base_uri": "https://localhost:8080/"
        }
      },
      "execution_count": 48,
      "outputs": [
        {
          "output_type": "stream",
          "name": "stdout",
          "text": [
            "6\n"
          ]
        }
      ]
    },
    {
      "cell_type": "code",
      "source": [
        "my_list = [100,200,2 , 'Ronaldo', False]"
      ],
      "metadata": {
        "id": "b0TcG5bnEWa4"
      },
      "execution_count": 49,
      "outputs": []
    },
    {
      "cell_type": "code",
      "source": [
        "print(my_list, type(my_list))"
      ],
      "metadata": {
        "id": "Y8tjO7eZUWKa",
        "outputId": "850edd11-24eb-4ef2-d015-460c7b0ee8b8",
        "colab": {
          "base_uri": "https://localhost:8080/"
        }
      },
      "execution_count": 50,
      "outputs": [
        {
          "output_type": "stream",
          "name": "stdout",
          "text": [
            "[100, 200, 2, 'Ronaldo', False] <class 'list'>\n"
          ]
        }
      ]
    },
    {
      "cell_type": "code",
      "source": [
        "my_list= [100,200,300,40]\n",
        "print([x+1 for x in my_list])"
      ],
      "metadata": {
        "id": "8vYYaCY8U3nL",
        "outputId": "45df1a20-6336-42c6-e763-819d5101f5ec",
        "colab": {
          "base_uri": "https://localhost:8080/"
        }
      },
      "execution_count": 51,
      "outputs": [
        {
          "output_type": "stream",
          "name": "stdout",
          "text": [
            "[101, 201, 301, 41]\n"
          ]
        }
      ]
    },
    {
      "cell_type": "code",
      "source": [
        "my_lst = [1,2,3,4,5,6]\n",
        "type(my_lst)"
      ],
      "metadata": {
        "id": "t3B5P6JbV0WT",
        "colab": {
          "base_uri": "https://localhost:8080/"
        },
        "outputId": "10c2c61c-f440-4f43-d24e-c901bf7cb6a6"
      },
      "execution_count": 52,
      "outputs": [
        {
          "output_type": "execute_result",
          "data": {
            "text/plain": [
              "list"
            ]
          },
          "metadata": {},
          "execution_count": 52
        }
      ]
    },
    {
      "cell_type": "code",
      "source": [
        "import numpy as np\n",
        "import pandas as pd\n",
        "import warnings\n",
        "warnings.filterwarnings('ignore')\n",
        "arr = np.array([1,2,3,4,5,6.2])\n",
        "print(arr, arr.dtype)"
      ],
      "metadata": {
        "colab": {
          "base_uri": "https://localhost:8080/"
        },
        "id": "Dnodr-t9YpzW",
        "outputId": "3f45ba7e-ac9d-4f4f-b6aa-ac2e45986445"
      },
      "execution_count": 53,
      "outputs": [
        {
          "output_type": "stream",
          "name": "stdout",
          "text": [
            "[1.  2.  3.  4.  5.  6.2] float64\n"
          ]
        }
      ]
    },
    {
      "cell_type": "code",
      "source": [
        "arr = np.array([1,2,3,\"4\",5,6.2])\n",
        "print(arr, type(arr))"
      ],
      "metadata": {
        "colab": {
          "base_uri": "https://localhost:8080/"
        },
        "id": "JXMqzD1AY6k9",
        "outputId": "fbe67428-2e1c-47b2-fa63-77b44ad43af0"
      },
      "execution_count": 54,
      "outputs": [
        {
          "output_type": "stream",
          "name": "stdout",
          "text": [
            "['1' '2' '3' '4' '5' '6.2'] <class 'numpy.ndarray'>\n"
          ]
        }
      ]
    },
    {
      "cell_type": "code",
      "source": [
        "arr.dtype"
      ],
      "metadata": {
        "colab": {
          "base_uri": "https://localhost:8080/"
        },
        "id": "-S24YtjLZwEn",
        "outputId": "04e7cc96-95d8-4834-a131-26099e8d8502"
      },
      "execution_count": 55,
      "outputs": [
        {
          "output_type": "execute_result",
          "data": {
            "text/plain": [
              "dtype('<U32')"
            ]
          },
          "metadata": {},
          "execution_count": 55
        }
      ]
    },
    {
      "cell_type": "code",
      "source": [
        "my_list = [[1,2,3],[4,5,6],[8,9,10]]"
      ],
      "metadata": {
        "id": "2CEyx85mZ0i6"
      },
      "execution_count": 56,
      "outputs": []
    },
    {
      "cell_type": "code",
      "source": [
        "art = np.array(my_list)"
      ],
      "metadata": {
        "id": "G-fOkHr0aVUL"
      },
      "execution_count": 57,
      "outputs": []
    },
    {
      "cell_type": "code",
      "source": [
        "print(art)"
      ],
      "metadata": {
        "colab": {
          "base_uri": "https://localhost:8080/"
        },
        "id": "bKqplb6facIs",
        "outputId": "24118ffc-1e59-458f-d536-ee6593237ec5"
      },
      "execution_count": 58,
      "outputs": [
        {
          "output_type": "stream",
          "name": "stdout",
          "text": [
            "[[ 1  2  3]\n",
            " [ 4  5  6]\n",
            " [ 8  9 10]]\n"
          ]
        }
      ]
    },
    {
      "cell_type": "code",
      "source": [
        "print(art.shape)"
      ],
      "metadata": {
        "colab": {
          "base_uri": "https://localhost:8080/"
        },
        "id": "LjC2BsY1aedx",
        "outputId": "c3b0025a-e981-4c5c-ca37-e3aa3e6fc6eb"
      },
      "execution_count": 59,
      "outputs": [
        {
          "output_type": "stream",
          "name": "stdout",
          "text": [
            "(3, 3)\n"
          ]
        }
      ]
    },
    {
      "cell_type": "code",
      "source": [
        "print(my_list[1])"
      ],
      "metadata": {
        "colab": {
          "base_uri": "https://localhost:8080/"
        },
        "id": "HTzcYfpybpxf",
        "outputId": "16c2bf43-47a5-4d6f-8233-425289d5a5d0"
      },
      "execution_count": 60,
      "outputs": [
        {
          "output_type": "stream",
          "name": "stdout",
          "text": [
            "[4, 5, 6]\n"
          ]
        }
      ]
    },
    {
      "cell_type": "code",
      "source": [
        "print(art[2][2])\n",
        "\n",
        "print(art[1,2])"
      ],
      "metadata": {
        "colab": {
          "base_uri": "https://localhost:8080/"
        },
        "id": "Me2Zxrkgcra2",
        "outputId": "981b970f-4891-409b-934f-431eb2837e3f"
      },
      "execution_count": 61,
      "outputs": [
        {
          "output_type": "stream",
          "name": "stdout",
          "text": [
            "10\n",
            "6\n"
          ]
        }
      ]
    },
    {
      "cell_type": "code",
      "source": [
        "my_list[2][0] = 8.2\n",
        "\n",
        "print(my_list)"
      ],
      "metadata": {
        "colab": {
          "base_uri": "https://localhost:8080/"
        },
        "id": "QORmIlLbdSa1",
        "outputId": "acf7818c-0c59-4163-bf28-0325731cd34c"
      },
      "execution_count": 62,
      "outputs": [
        {
          "output_type": "stream",
          "name": "stdout",
          "text": [
            "[[1, 2, 3], [4, 5, 6], [8.2, 9, 10]]\n"
          ]
        }
      ]
    },
    {
      "cell_type": "code",
      "source": [
        "art[2,0] = 8.23"
      ],
      "metadata": {
        "id": "cGEc-wrNdzS-"
      },
      "execution_count": 63,
      "outputs": []
    },
    {
      "cell_type": "code",
      "source": [
        "print(art)"
      ],
      "metadata": {
        "colab": {
          "base_uri": "https://localhost:8080/"
        },
        "id": "O7Fw-mjad-0M",
        "outputId": "52ad9aaf-9f66-46bc-8fcc-cf52d1ca1087"
      },
      "execution_count": 64,
      "outputs": [
        {
          "output_type": "stream",
          "name": "stdout",
          "text": [
            "[[ 1  2  3]\n",
            " [ 4  5  6]\n",
            " [ 8  9 10]]\n"
          ]
        }
      ]
    },
    {
      "cell_type": "code",
      "source": [
        "arm = np.arange(0,11,5)\n",
        "print(arm)"
      ],
      "metadata": {
        "colab": {
          "base_uri": "https://localhost:8080/"
        },
        "id": "8DPWgMOAeAR8",
        "outputId": "1c76eefd-1676-40c3-8ea8-8578c7ddcae2"
      },
      "execution_count": 65,
      "outputs": [
        {
          "output_type": "stream",
          "name": "stdout",
          "text": [
            "[ 0  5 10]\n"
          ]
        }
      ]
    },
    {
      "cell_type": "code",
      "source": [
        "arr = np.zeros((5,4))\n",
        "print(arr)"
      ],
      "metadata": {
        "colab": {
          "base_uri": "https://localhost:8080/"
        },
        "id": "CkrKjuJPhnKk",
        "outputId": "3e8e2ae7-83db-4736-b390-56a33d0f9782"
      },
      "execution_count": 66,
      "outputs": [
        {
          "output_type": "stream",
          "name": "stdout",
          "text": [
            "[[0. 0. 0. 0.]\n",
            " [0. 0. 0. 0.]\n",
            " [0. 0. 0. 0.]\n",
            " [0. 0. 0. 0.]\n",
            " [0. 0. 0. 0.]]\n"
          ]
        }
      ]
    },
    {
      "cell_type": "code",
      "source": [
        "from numpy.core.memmap import dtype\n",
        "arr = np.zeros((5,4), dtype = int)\n",
        "print(arr)"
      ],
      "metadata": {
        "colab": {
          "base_uri": "https://localhost:8080/"
        },
        "id": "GzPzIgGijU9B",
        "outputId": "2118fdf8-94e1-495b-a374-e76aa9b8c0a0"
      },
      "execution_count": 67,
      "outputs": [
        {
          "output_type": "stream",
          "name": "stdout",
          "text": [
            "[[0 0 0 0]\n",
            " [0 0 0 0]\n",
            " [0 0 0 0]\n",
            " [0 0 0 0]\n",
            " [0 0 0 0]]\n"
          ]
        }
      ]
    },
    {
      "cell_type": "code",
      "source": [
        "arr = np.ones((5,4))\n",
        "print(arr)\n",
        "\n",
        "\n",
        "arr = np.ones((5,4), dtype = int)\n",
        "print(arr)\n",
        "\n"
      ],
      "metadata": {
        "colab": {
          "base_uri": "https://localhost:8080/"
        },
        "id": "p0MiXzFTkVyj",
        "outputId": "65591b4f-ff32-4b98-e559-1c0bf694aa1f"
      },
      "execution_count": 68,
      "outputs": [
        {
          "output_type": "stream",
          "name": "stdout",
          "text": [
            "[[1. 1. 1. 1.]\n",
            " [1. 1. 1. 1.]\n",
            " [1. 1. 1. 1.]\n",
            " [1. 1. 1. 1.]\n",
            " [1. 1. 1. 1.]]\n",
            "[[1 1 1 1]\n",
            " [1 1 1 1]\n",
            " [1 1 1 1]\n",
            " [1 1 1 1]\n",
            " [1 1 1 1]]\n"
          ]
        }
      ]
    },
    {
      "cell_type": "code",
      "source": [
        "## linearly spaced data\n",
        "arg = np.linspace(1,7,10)\n",
        "print(arg)\n",
        "\n",
        "anm = np.linspace(1,7,20)\n",
        "print(anm)"
      ],
      "metadata": {
        "colab": {
          "base_uri": "https://localhost:8080/"
        },
        "id": "_scBNioyksVg",
        "outputId": "7bdd3536-b7fe-4760-8033-65ef4fac1686"
      },
      "execution_count": 69,
      "outputs": [
        {
          "output_type": "stream",
          "name": "stdout",
          "text": [
            "[1.         1.66666667 2.33333333 3.         3.66666667 4.33333333\n",
            " 5.         5.66666667 6.33333333 7.        ]\n",
            "[1.         1.31578947 1.63157895 1.94736842 2.26315789 2.57894737\n",
            " 2.89473684 3.21052632 3.52631579 3.84210526 4.15789474 4.47368421\n",
            " 4.78947368 5.10526316 5.42105263 5.73684211 6.05263158 6.36842105\n",
            " 6.68421053 7.        ]\n"
          ]
        }
      ]
    },
    {
      "cell_type": "code",
      "source": [
        "agm = np.eye(10)\n",
        "print(agm)"
      ],
      "metadata": {
        "colab": {
          "base_uri": "https://localhost:8080/"
        },
        "id": "Gp_d3UCulNn0",
        "outputId": "0f68fc70-ca66-45f4-9393-6f0a80f739c7"
      },
      "execution_count": 70,
      "outputs": [
        {
          "output_type": "stream",
          "name": "stdout",
          "text": [
            "[[1. 0. 0. 0. 0. 0. 0. 0. 0. 0.]\n",
            " [0. 1. 0. 0. 0. 0. 0. 0. 0. 0.]\n",
            " [0. 0. 1. 0. 0. 0. 0. 0. 0. 0.]\n",
            " [0. 0. 0. 1. 0. 0. 0. 0. 0. 0.]\n",
            " [0. 0. 0. 0. 1. 0. 0. 0. 0. 0.]\n",
            " [0. 0. 0. 0. 0. 1. 0. 0. 0. 0.]\n",
            " [0. 0. 0. 0. 0. 0. 1. 0. 0. 0.]\n",
            " [0. 0. 0. 0. 0. 0. 0. 1. 0. 0.]\n",
            " [0. 0. 0. 0. 0. 0. 0. 0. 1. 0.]\n",
            " [0. 0. 0. 0. 0. 0. 0. 0. 0. 1.]]\n"
          ]
        }
      ]
    },
    {
      "cell_type": "code",
      "source": [
        "\n",
        "import numpy as np\n",
        "import pandas as pd\n",
        "akm = np.random.rand(1,7)"
      ],
      "metadata": {
        "id": "yvTKlw1pmIK3"
      },
      "execution_count": 71,
      "outputs": []
    },
    {
      "cell_type": "code",
      "source": [
        "print(akm)"
      ],
      "metadata": {
        "colab": {
          "base_uri": "https://localhost:8080/"
        },
        "id": "TCyRk4yDVsfI",
        "outputId": "fee63643-ce5a-424f-b79a-e98a32ff9bb5"
      },
      "execution_count": 72,
      "outputs": [
        {
          "output_type": "stream",
          "name": "stdout",
          "text": [
            "[[0.01655923 0.78871958 0.55937986 0.04525314 0.78065332 0.3440828\n",
            "  0.02022768]]\n"
          ]
        }
      ]
    },
    {
      "cell_type": "code",
      "source": [
        "akm = np.random.randint(1,100,(10,1))\n",
        "print(akm)\n"
      ],
      "metadata": {
        "colab": {
          "base_uri": "https://localhost:8080/"
        },
        "id": "Xu16Lzd1WKMX",
        "outputId": "9287a9d3-6622-49b5-a060-18de2f0b050a"
      },
      "execution_count": 73,
      "outputs": [
        {
          "output_type": "stream",
          "name": "stdout",
          "text": [
            "[[44]\n",
            " [45]\n",
            " [95]\n",
            " [90]\n",
            " [99]\n",
            " [81]\n",
            " [14]\n",
            " [74]\n",
            " [45]\n",
            " [30]]\n"
          ]
        }
      ]
    },
    {
      "cell_type": "code",
      "source": [
        "print(akm.reshape(1,10))"
      ],
      "metadata": {
        "colab": {
          "base_uri": "https://localhost:8080/"
        },
        "id": "RJ82_sqyWPJj",
        "outputId": "fa6579f7-0126-4a7e-c42b-d05893521be6"
      },
      "execution_count": 74,
      "outputs": [
        {
          "output_type": "stream",
          "name": "stdout",
          "text": [
            "[[44 45 95 90 99 81 14 74 45 30]]\n"
          ]
        }
      ]
    },
    {
      "cell_type": "code",
      "source": [
        "print(akm.sum())"
      ],
      "metadata": {
        "colab": {
          "base_uri": "https://localhost:8080/"
        },
        "id": "79J88EUfXe0S",
        "outputId": "1b104a3f-e0bf-4e39-e8aa-71ca077ad9b5"
      },
      "execution_count": 75,
      "outputs": [
        {
          "output_type": "stream",
          "name": "stdout",
          "text": [
            "617\n"
          ]
        }
      ]
    },
    {
      "cell_type": "code",
      "source": [
        "print(arm.sum())"
      ],
      "metadata": {
        "colab": {
          "base_uri": "https://localhost:8080/"
        },
        "id": "e0aSSB5SYYOM",
        "outputId": "b3d6c06b-1ce2-4ffe-b096-88a4ca2bb76f"
      },
      "execution_count": 76,
      "outputs": [
        {
          "output_type": "stream",
          "name": "stdout",
          "text": [
            "15\n"
          ]
        }
      ]
    },
    {
      "cell_type": "code",
      "source": [
        "print(agm.sum())"
      ],
      "metadata": {
        "colab": {
          "base_uri": "https://localhost:8080/"
        },
        "id": "shkA245MYce8",
        "outputId": "63a5a1a7-3217-4499-96e5-a63ac70dc1aa"
      },
      "execution_count": 77,
      "outputs": [
        {
          "output_type": "stream",
          "name": "stdout",
          "text": [
            "10.0\n"
          ]
        }
      ]
    },
    {
      "cell_type": "code",
      "source": [
        "print(akm.sum(axis=0))"
      ],
      "metadata": {
        "colab": {
          "base_uri": "https://localhost:8080/"
        },
        "id": "FPK1Co-XZFWf",
        "outputId": "06dbbcfd-605c-46cd-d6ef-15c01e734048"
      },
      "execution_count": 78,
      "outputs": [
        {
          "output_type": "stream",
          "name": "stdout",
          "text": [
            "[617]\n"
          ]
        }
      ]
    },
    {
      "cell_type": "code",
      "source": [
        "print(arm.sum(axis=0))"
      ],
      "metadata": {
        "id": "3nTs7s_TZysM",
        "outputId": "f1ecae7f-ded0-40f2-90b7-78a068a47482",
        "colab": {
          "base_uri": "https://localhost:8080/"
        }
      },
      "execution_count": 81,
      "outputs": [
        {
          "output_type": "stream",
          "name": "stdout",
          "text": [
            "15\n"
          ]
        }
      ]
    },
    {
      "cell_type": "code",
      "source": [],
      "metadata": {
        "id": "5RC3RliTZ3Bw"
      },
      "execution_count": null,
      "outputs": []
    }
  ],
  "metadata": {
    "colab": {
      "name": "Colab's New Code Editor",
      "provenance": [],
      "include_colab_link": true
    },
    "kernelspec": {
      "display_name": "Python 3",
      "name": "python3"
    }
  },
  "nbformat": 4,
  "nbformat_minor": 0
}