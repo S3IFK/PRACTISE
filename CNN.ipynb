{
  "nbformat": 4,
  "nbformat_minor": 0,
  "metadata": {
    "colab": {
      "provenance": [],
      "authorship_tag": "ABX9TyOEYxG28GYgRcVUQRrPsGNb",
      "include_colab_link": true
    },
    "kernelspec": {
      "name": "python3",
      "display_name": "Python 3"
    },
    "language_info": {
      "name": "python"
    }
  },
  "cells": [
    {
      "cell_type": "markdown",
      "metadata": {
        "id": "view-in-github",
        "colab_type": "text"
      },
      "source": [
        "<a href=\"https://colab.research.google.com/github/S3IFK/Practise/blob/main/CNN.ipynb\" target=\"_parent\"><img src=\"https://colab.research.google.com/assets/colab-badge.svg\" alt=\"Open In Colab\"/></a>"
      ]
    },
    {
      "cell_type": "code",
      "execution_count": 1,
      "metadata": {
        "id": "Rq2Cc6ot30xA"
      },
      "outputs": [],
      "source": [
        "import numpy as np\n",
        "import pandas as pd\n",
        "import warnings\n",
        "warnings.filterwarnings('ignore')"
      ]
    },
    {
      "cell_type": "code",
      "source": [
        "import random\n",
        "import tensorflow as tf\n",
        "from tensorflow.keras.datasets import mnist\n",
        "from tensorflow.keras import Sequential\n",
        "from tensorflow.keras.layers import Dense, Dropout, Flatten, Conv2D, MaxPooling2D"
      ],
      "metadata": {
        "id": "4W06vHfNGi6E"
      },
      "execution_count": 2,
      "outputs": []
    },
    {
      "cell_type": "code",
      "source": [
        "# load the dataset into train and test sets\n",
        "(x_train, y_train), (x_test, y_test) = mnist.load_data()"
      ],
      "metadata": {
        "id": "n4_XQXBz7grC",
        "outputId": "027ca821-08e9-4b39-cd17-9b30db289c92",
        "colab": {
          "base_uri": "https://localhost:8080/"
        }
      },
      "execution_count": 3,
      "outputs": [
        {
          "output_type": "stream",
          "name": "stdout",
          "text": [
            "Downloading data from https://storage.googleapis.com/tensorflow/tf-keras-datasets/mnist.npz\n",
            "11490434/11490434 [==============================] - 0s 0us/step\n"
          ]
        }
      ]
    },
    {
      "cell_type": "code",
      "source": [
        "print(\"train data\")\n",
        "print(x_train.shape)\n",
        "print(y_train.shape)\n",
        "print(\"\\n test data\")\n",
        "print(x_test.shape)\n",
        "print(y_test.shape)"
      ],
      "metadata": {
        "id": "WtTBEOsi7luc",
        "outputId": "0debc48b-5d8e-4373-a220-c85b79cdafed",
        "colab": {
          "base_uri": "https://localhost:8080/"
        }
      },
      "execution_count": 4,
      "outputs": [
        {
          "output_type": "stream",
          "name": "stdout",
          "text": [
            "train data\n",
            "(60000, 28, 28)\n",
            "(60000,)\n",
            "\n",
            " test data\n",
            "(10000, 28, 28)\n",
            "(10000,)\n"
          ]
        }
      ]
    },
    {
      "cell_type": "code",
      "source": [
        "# sample only 20k images for training\n",
        "idx = np.random.randint(x_train.shape[0], size=20000) # sample 20k indices from 0-60,000\n",
        "x_train = x_train[idx, :]\n",
        "y_train = y_train[idx]\n",
        "print(x_train.shape)\n",
        "print(y_train.shape)"
      ],
      "metadata": {
        "id": "mxHSt5pc7rgU",
        "outputId": "3ee78d44-8501-4820-f237-60808d749ef8",
        "colab": {
          "base_uri": "https://localhost:8080/"
        }
      },
      "execution_count": 5,
      "outputs": [
        {
          "output_type": "stream",
          "name": "stdout",
          "text": [
            "(20000, 28, 28)\n",
            "(20000,)\n"
          ]
        }
      ]
    },
    {
      "cell_type": "code",
      "source": [
        "# specify input dimensions of each image\n",
        "img_rows, img_cols = 28, 28\n",
        "input_shape = (img_rows, img_cols, 1)\n",
        "\n",
        "# batch size, number of classes, epochs\n",
        "batch_size = 128\n",
        "num_classes = 10\n",
        "epochs = 12"
      ],
      "metadata": {
        "id": "e9nLoIVp7yVo"
      },
      "execution_count": 6,
      "outputs": []
    },
    {
      "cell_type": "code",
      "source": [
        "# reshape x_train and x_test\n",
        "x_train = x_train.reshape(x_train.shape[0], img_rows, img_cols, 1)\n",
        "x_test = x_test.reshape(x_test.shape[0], img_rows, img_cols, 1)\n",
        "print(x_train.shape)\n",
        "print(x_test.shape)"
      ],
      "metadata": {
        "id": "PRPEMT2z74Cr",
        "outputId": "6d351074-5db3-498f-c036-c85253969b6d",
        "colab": {
          "base_uri": "https://localhost:8080/"
        }
      },
      "execution_count": 7,
      "outputs": [
        {
          "output_type": "stream",
          "name": "stdout",
          "text": [
            "(20000, 28, 28, 1)\n",
            "(10000, 28, 28, 1)\n"
          ]
        }
      ]
    },
    {
      "cell_type": "code",
      "source": [
        "# convert class labels (from digits) to one-hot encoded vectors\n",
        "y_train = tf.keras.utils.to_categorical(y_train, num_classes)\n",
        "y_test = tf.keras.utils.to_categorical(y_test, num_classes)\n",
        "print(y_train.shape)"
      ],
      "metadata": {
        "id": "rYA6jo4S76qP",
        "outputId": "81fecd0a-0f10-4d27-986f-796868bf9078",
        "colab": {
          "base_uri": "https://localhost:8080/"
        }
      },
      "execution_count": 8,
      "outputs": [
        {
          "output_type": "stream",
          "name": "stdout",
          "text": [
            "(20000, 10)\n"
          ]
        }
      ]
    },
    {
      "cell_type": "code",
      "source": [
        "# originally, the pixels are stored as ints\n",
        "x_train.dtype"
      ],
      "metadata": {
        "id": "DWrNPwef7-84",
        "outputId": "0cf2b7be-2d27-4c3c-e1bb-e2c068127877",
        "colab": {
          "base_uri": "https://localhost:8080/"
        }
      },
      "execution_count": 9,
      "outputs": [
        {
          "output_type": "execute_result",
          "data": {
            "text/plain": [
              "dtype('uint8')"
            ]
          },
          "metadata": {},
          "execution_count": 9
        }
      ]
    },
    {
      "cell_type": "code",
      "source": [
        "# convert int to float\n",
        "x_train = x_train.astype('float32')\n",
        "x_test = x_test.astype('float32')\n",
        "\n",
        "# normalise\n",
        "x_train /= 255\n",
        "x_test /= 255"
      ],
      "metadata": {
        "id": "F_je_X7D8BbJ"
      },
      "execution_count": 10,
      "outputs": []
    },
    {
      "cell_type": "code",
      "source": [
        "# model\n",
        "model = Sequential()\n",
        "\n",
        "# a keras convolutional layer is called Conv2D\n",
        "# help(Conv2D)\n",
        "# note that the first layer needs to be told the input shape explicitly\n",
        "\n",
        "# first conv layer\n",
        "model.add(Conv2D(32, kernel_size=(3, 3),\n",
        "                 activation='relu',\n",
        "                 input_shape=input_shape)) # input shape = (img_rows, img_cols, 1)\n",
        "\n",
        "# second conv layer\n",
        "model.add(Conv2D(64, kernel_size=(3, 3), \n",
        "                 activation='relu'))\n",
        "model.add(MaxPooling2D(pool_size=(2, 2)))\n",
        "model.add(Dropout(0.25))\n",
        "\n",
        "# flatten and put a fully connected layer\n",
        "model.add(Flatten())\n",
        "model.add(Dense(128, activation='relu')) # fully connected\n",
        "model.add(Dropout(0.5))\n",
        "\n",
        "# softmax layer\n",
        "model.add(Dense(num_classes, activation='softmax'))\n",
        "\n",
        "# model summary\n",
        "model.summary()"
      ],
      "metadata": {
        "id": "PYzBddFg8D84",
        "outputId": "b3cb133d-66ef-418f-ab77-359821211d45",
        "colab": {
          "base_uri": "https://localhost:8080/"
        }
      },
      "execution_count": 11,
      "outputs": [
        {
          "output_type": "stream",
          "name": "stdout",
          "text": [
            "Model: \"sequential\"\n",
            "_________________________________________________________________\n",
            " Layer (type)                Output Shape              Param #   \n",
            "=================================================================\n",
            " conv2d (Conv2D)             (None, 26, 26, 32)        320       \n",
            "                                                                 \n",
            " conv2d_1 (Conv2D)           (None, 24, 24, 64)        18496     \n",
            "                                                                 \n",
            " max_pooling2d (MaxPooling2D  (None, 12, 12, 64)       0         \n",
            " )                                                               \n",
            "                                                                 \n",
            " dropout (Dropout)           (None, 12, 12, 64)        0         \n",
            "                                                                 \n",
            " flatten (Flatten)           (None, 9216)              0         \n",
            "                                                                 \n",
            " dense (Dense)               (None, 128)               1179776   \n",
            "                                                                 \n",
            " dropout_1 (Dropout)         (None, 128)               0         \n",
            "                                                                 \n",
            " dense_1 (Dense)             (None, 10)                1290      \n",
            "                                                                 \n",
            "=================================================================\n",
            "Total params: 1,199,882\n",
            "Trainable params: 1,199,882\n",
            "Non-trainable params: 0\n",
            "_________________________________________________________________\n"
          ]
        }
      ]
    },
    {
      "cell_type": "code",
      "source": [
        "# usual cross entropy loss\n",
        "# choose any optimiser such as adam, rmsprop etc\n",
        "# metric is accuracy\n",
        "model.compile(loss=tf.keras.losses.categorical_crossentropy,\n",
        "              optimizer=tf.keras.optimizers.Adadelta(),\n",
        "              metrics=['accuracy'])"
      ],
      "metadata": {
        "id": "QYqy-l0Z8MXO"
      },
      "execution_count": 12,
      "outputs": []
    },
    {
      "cell_type": "code",
      "source": [
        "# fit the model\n",
        "# this should take around 10-15 minutes when run locally on a windows/mac PC \n",
        "model.fit(x_train, y_train,\n",
        "          batch_size=batch_size,\n",
        "          epochs=epochs,\n",
        "          verbose=1,\n",
        "          validation_data=(x_test, y_test))"
      ],
      "metadata": {
        "id": "zxUMbHc08Rjf",
        "outputId": "ddd6c77c-3686-45fd-8c9c-c6ed269dc3dd",
        "colab": {
          "base_uri": "https://localhost:8080/"
        }
      },
      "execution_count": 13,
      "outputs": [
        {
          "output_type": "stream",
          "name": "stdout",
          "text": [
            "Epoch 1/12\n",
            "157/157 [==============================] - 65s 402ms/step - loss: 2.3004 - accuracy: 0.1023 - val_loss: 2.2893 - val_accuracy: 0.1107\n",
            "Epoch 2/12\n",
            "157/157 [==============================] - 62s 398ms/step - loss: 2.2849 - accuracy: 0.1310 - val_loss: 2.2720 - val_accuracy: 0.1756\n",
            "Epoch 3/12\n",
            "157/157 [==============================] - 66s 423ms/step - loss: 2.2686 - accuracy: 0.1598 - val_loss: 2.2534 - val_accuracy: 0.2424\n",
            "Epoch 4/12\n",
            "157/157 [==============================] - 63s 404ms/step - loss: 2.2504 - accuracy: 0.1950 - val_loss: 2.2336 - val_accuracy: 0.2909\n",
            "Epoch 5/12\n",
            "157/157 [==============================] - 64s 406ms/step - loss: 2.2321 - accuracy: 0.2227 - val_loss: 2.2124 - val_accuracy: 0.3273\n",
            "Epoch 6/12\n",
            "157/157 [==============================] - 59s 375ms/step - loss: 2.2125 - accuracy: 0.2507 - val_loss: 2.1895 - val_accuracy: 0.3521\n",
            "Epoch 7/12\n",
            "157/157 [==============================] - 59s 371ms/step - loss: 2.1900 - accuracy: 0.2818 - val_loss: 2.1648 - val_accuracy: 0.3717\n",
            "Epoch 8/12\n",
            "157/157 [==============================] - 63s 400ms/step - loss: 2.1673 - accuracy: 0.3027 - val_loss: 2.1380 - val_accuracy: 0.4022\n",
            "Epoch 9/12\n",
            "157/157 [==============================] - 58s 370ms/step - loss: 2.1401 - accuracy: 0.3300 - val_loss: 2.1087 - val_accuracy: 0.4310\n",
            "Epoch 10/12\n",
            "157/157 [==============================] - 59s 372ms/step - loss: 2.1143 - accuracy: 0.3499 - val_loss: 2.0766 - val_accuracy: 0.4691\n",
            "Epoch 11/12\n",
            "157/157 [==============================] - 58s 370ms/step - loss: 2.0847 - accuracy: 0.3708 - val_loss: 2.0412 - val_accuracy: 0.5069\n",
            "Epoch 12/12\n",
            "157/157 [==============================] - 59s 373ms/step - loss: 2.0506 - accuracy: 0.3978 - val_loss: 2.0022 - val_accuracy: 0.5457\n"
          ]
        },
        {
          "output_type": "execute_result",
          "data": {
            "text/plain": [
              "<keras.callbacks.History at 0x7f70443429a0>"
            ]
          },
          "metadata": {},
          "execution_count": 13
        }
      ]
    },
    {
      "cell_type": "code",
      "source": [
        "# evaluate the model on test data\n",
        "model.evaluate(x_test, y_test)"
      ],
      "metadata": {
        "id": "PbRXLoZ-8T29",
        "outputId": "54adabfe-53d0-48c4-aeea-d15648fb816e",
        "colab": {
          "base_uri": "https://localhost:8080/"
        }
      },
      "execution_count": 14,
      "outputs": [
        {
          "output_type": "stream",
          "name": "stdout",
          "text": [
            "313/313 [==============================] - 7s 21ms/step - loss: 2.0022 - accuracy: 0.5457\n"
          ]
        },
        {
          "output_type": "execute_result",
          "data": {
            "text/plain": [
              "[2.0022175312042236, 0.5457000136375427]"
            ]
          },
          "metadata": {},
          "execution_count": 14
        }
      ]
    },
    {
      "cell_type": "code",
      "source": [
        "print(model.metrics_names)"
      ],
      "metadata": {
        "id": "ceMn5BH3DeBy",
        "outputId": "91a6d4b8-6792-4863-d332-31c79fd41000",
        "colab": {
          "base_uri": "https://localhost:8080/"
        }
      },
      "execution_count": 15,
      "outputs": [
        {
          "output_type": "stream",
          "name": "stdout",
          "text": [
            "['loss', 'accuracy']\n"
          ]
        }
      ]
    },
    {
      "cell_type": "code",
      "source": [],
      "metadata": {
        "id": "qzKh_glFDmgp"
      },
      "execution_count": null,
      "outputs": []
    }
  ]
}